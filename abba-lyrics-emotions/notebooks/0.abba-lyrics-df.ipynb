{
 "cells": [
  {
   "cell_type": "markdown",
   "metadata": {},
   "source": [
    "<h1><center>ABBA: Lyrics Emotions</center></h1>\n",
    "<img src=\"../images/gettyimages-abba.jpeg\" width=\"360\" align=\"center\"/>"
   ]
  },
  {
   "cell_type": "markdown",
   "metadata": {
    "ExecuteTime": {
     "end_time": "2021-10-30T14:11:19.790940Z",
     "start_time": "2021-10-30T14:11:19.787635Z"
    }
   },
   "source": [
    "This notebook details all the steps performed to create a **song lyrics dataset**. The process is limited to studio albums and includes only English songs - instrumental, remixed, live songs are left out.\n",
    "\n",
    "- Some documentation: https://en.wikipedia.org/wiki/ABBA_discography#Studio_albums"
   ]
  },
  {
   "cell_type": "code",
   "execution_count": null,
   "metadata": {
    "ExecuteTime": {
     "end_time": "2021-10-30T15:09:37.240529Z",
     "start_time": "2021-10-30T15:09:37.237331Z"
    }
   },
   "outputs": [],
   "source": [
    "import pandas as pd\n",
    "import numpy as np\n",
    "import datetime\n",
    "import lyricsgenius"
   ]
  },
  {
   "cell_type": "markdown",
   "metadata": {
    "ExecuteTime": {
     "end_time": "2021-09-19T09:57:03.468132Z",
     "start_time": "2021-09-19T09:57:03.446574Z"
    }
   },
   "source": [
    "Get a token to download song lyrics\n",
    "- lyricsgenius: https://pypi.org/project/lyricsgenius/\n",
    "- api client: https://genius.com/api-clients\n",
    "- https://towardsdatascience.com/song-lyrics-genius-api-dcc2819c29"
   ]
  },
  {
   "cell_type": "code",
   "execution_count": null,
   "metadata": {
    "ExecuteTime": {
     "end_time": "2021-10-30T14:27:04.970831Z",
     "start_time": "2021-10-30T14:27:04.966833Z"
    }
   },
   "outputs": [],
   "source": [
    "token = 'cxk4nYrZcSzjbZ_xsGVItrJgsZbU5tkZlMn6SQLHDOjMd7SfkWa4CS4Zlta2h_uL'\n",
    "genius = lyricsgenius.Genius(token)\n",
    "\n",
    "# genius.verbose = False # Turn off status messages\n",
    "genius.remove_section_headers = True # Remove section headers (e.g. [Chorus]) from lyrics when searching\n",
    "genius.skip_non_songs = False # Include hits thought to be non-songs (e.g. track lists)\n",
    "genius.excluded_terms = [\"(Remix)\", \"(Live)\"] # Exclude songs with these words in their title"
   ]
  },
  {
   "cell_type": "code",
   "execution_count": null,
   "metadata": {
    "ExecuteTime": {
     "end_time": "2021-10-30T14:36:50.678176Z",
     "start_time": "2021-10-30T14:36:50.668102Z"
    }
   },
   "outputs": [],
   "source": [
    "# Function used to cast dates (downloaded from Genius as dict) in datetime format\n",
    "def get_release_date(date_dict):\n",
    "    year, month, day = [str(item) for key, item in date_dict.items()]\n",
    "    year, month, day = year.rjust(4, '0'), month.rjust(2, '0'), day.rjust(2, '0')\n",
    "    return datetime.datetime.strptime(year+month+day, '%Y%m%d')\n",
    "\n",
    "# Function to create a lyrics dataset based on a given album name\n",
    "def lyrics_df(album_name, id_album):\n",
    "    album = genius.search_album(name=album_name, artist=\"ABBA\", get_full_info=True, text_format=True)\n",
    "    album_dict = album.to_dict()\n",
    "    n_tracks = len(album_dict['tracks'])\n",
    "    lyrics = (\n",
    "        [(album_dict['tracks'][i]['song']['title'], album_dict['tracks'][i]['song']['lyrics']) for i in range(n_tracks)]\n",
    "    )\n",
    "    df_out = pd.DataFrame(\n",
    "        data={\n",
    "            'id': id_album,\n",
    "            'album': album.full_title,\n",
    "            'release_date': [get_release_date(album_dict['release_date_components'])]*n_tracks,\n",
    "            'n_tracks_original': n_tracks,\n",
    "            'id_track': range(1, 1+n_tracks),\n",
    "            'track': [single for single, _ in lyrics],\n",
    "            'lyrics': [text for _, text in lyrics]\n",
    "        }\n",
    "    )\n",
    "    print(album_dict['url'])\n",
    "    return df_out"
   ]
  },
  {
   "cell_type": "markdown",
   "metadata": {},
   "source": [
    "The download is done album by album (8 in total) in order to analyse each single collection."
   ]
  },
  {
   "cell_type": "markdown",
   "metadata": {},
   "source": [
    "## 1. Ring Ring\n",
    "Released: 26 March 1973\n",
    "- https://genius.com/albums/Abba/Ring-ring-international-edition\n",
    "- https://en.wikipedia.org/wiki/Ring_Ring_(album)"
   ]
  },
  {
   "cell_type": "code",
   "execution_count": null,
   "metadata": {
    "ExecuteTime": {
     "end_time": "2021-10-30T14:27:30.021595Z",
     "start_time": "2021-10-30T14:27:06.661492Z"
    },
    "scrolled": true
   },
   "outputs": [],
   "source": [
    "# Download the album\n",
    "album = genius.search_album(\n",
    "    name='Ring Ring (International Edition)', artist=\"ABBA\", get_full_info=True, text_format=True\n",
    ")"
   ]
  },
  {
   "cell_type": "code",
   "execution_count": null,
   "metadata": {
    "ExecuteTime": {
     "end_time": "2021-10-30T14:29:30.093299Z",
     "start_time": "2021-10-30T14:29:30.050405Z"
    }
   },
   "outputs": [],
   "source": [
    "# Explore its features\n",
    "album_dict = album.to_dict()\n",
    "album_dict"
   ]
  },
  {
   "cell_type": "code",
   "execution_count": null,
   "metadata": {
    "ExecuteTime": {
     "end_time": "2021-10-30T14:28:28.258695Z",
     "start_time": "2021-10-30T14:28:28.237271Z"
    }
   },
   "outputs": [],
   "source": [
    "# Get the Genius URL of the album\n",
    "print(album_dict['url'])"
   ]
  },
  {
   "cell_type": "code",
   "execution_count": null,
   "metadata": {
    "ExecuteTime": {
     "end_time": "2021-10-30T14:29:59.914226Z",
     "start_time": "2021-10-30T14:29:59.910106Z"
    }
   },
   "outputs": [],
   "source": [
    "# Check the number of tracks\n",
    "n_tracks = len(album_dict['tracks'])\n",
    "n_tracks"
   ]
  },
  {
   "cell_type": "code",
   "execution_count": null,
   "metadata": {
    "ExecuteTime": {
     "end_time": "2021-10-30T14:30:20.041181Z",
     "start_time": "2021-10-30T14:30:20.010453Z"
    }
   },
   "outputs": [],
   "source": [
    "# Get the song lyrics\n",
    "lyrics = (\n",
    "    [(album_dict['tracks'][i]['song']['title'], album_dict['tracks'][i]['song']['lyrics']) for i in range(n_tracks)]\n",
    ")\n",
    "lyrics\n",
    "# lyrics is a list of the songs in the album, each element is a tuple defined as ({song name}, {song lyrics})"
   ]
  },
  {
   "cell_type": "code",
   "execution_count": null,
   "metadata": {
    "ExecuteTime": {
     "end_time": "2021-09-23T20:24:09.820113Z",
     "start_time": "2021-09-23T20:24:09.812702Z"
    }
   },
   "outputs": [],
   "source": [
    "[track for track, _ in lyrics]"
   ]
  },
  {
   "cell_type": "code",
   "execution_count": null,
   "metadata": {
    "ExecuteTime": {
     "end_time": "2021-10-30T14:37:03.634669Z",
     "start_time": "2021-10-30T14:37:03.629364Z"
    }
   },
   "outputs": [],
   "source": [
    "# Collect the relevant information in a df\n",
    "df_ring_ring = pd.DataFrame(\n",
    "    data={\n",
    "        'id': 1,\n",
    "        'album': album.full_title,\n",
    "        'release_date': [get_release_date(album_dict['release_date_components'])]*n_tracks,\n",
    "        'n_tracks_original': n_tracks,\n",
    "        'id_track': range(1, 1+n_tracks),\n",
    "        'track': [single for single, _ in lyrics],\n",
    "        'lyrics': [text for _, text in lyrics]\n",
    "    }\n",
    ")"
   ]
  },
  {
   "cell_type": "code",
   "execution_count": null,
   "metadata": {
    "ExecuteTime": {
     "end_time": "2021-10-30T14:37:07.436568Z",
     "start_time": "2021-10-30T14:37:07.429828Z"
    }
   },
   "outputs": [],
   "source": [
    "# Drop the Swedish song\n",
    "df_ring_ring = df_ring_ring.iloc[:-1]\n",
    "df_ring_ring['n_tracks'] = 14"
   ]
  },
  {
   "cell_type": "code",
   "execution_count": null,
   "metadata": {
    "ExecuteTime": {
     "end_time": "2021-10-30T14:37:07.628174Z",
     "start_time": "2021-10-30T14:37:07.620343Z"
    }
   },
   "outputs": [],
   "source": [
    "# Add some additional notes\n",
    "df_ring_ring['notes'] = np.nan\n",
    "\n",
    "df_ring_ring.loc[df_ring_ring.id_track==1, 'notes'] = 'Third at the 1973 Melodifestivalen'\n",
    "df_ring_ring.loc[df_ring_ring.id_track==4, 'notes'] = 'First single ever'\n",
    "df_ring_ring.loc[df_ring_ring.id_track==13, 'notes'] = '2001 CD edition bonus tracks'\n",
    "df_ring_ring.loc[df_ring_ring.id_track==14, 'notes'] = '2001 CD edition bonus tracks'"
   ]
  },
  {
   "cell_type": "code",
   "execution_count": null,
   "metadata": {
    "ExecuteTime": {
     "end_time": "2021-10-30T14:37:08.148982Z",
     "start_time": "2021-10-30T14:37:08.137431Z"
    }
   },
   "outputs": [],
   "source": [
    "df_ring_ring"
   ]
  },
  {
   "cell_type": "markdown",
   "metadata": {},
   "source": [
    "## 2. Waterloo\n",
    "Released: 4 March 1974\n",
    "- https://genius.com/albums/Abba/Waterloo\n",
    "- https://en.wikipedia.org/wiki/Waterloo_(album)"
   ]
  },
  {
   "cell_type": "code",
   "execution_count": null,
   "metadata": {
    "ExecuteTime": {
     "end_time": "2021-10-30T14:42:51.334611Z",
     "start_time": "2021-10-30T14:42:51.315841Z"
    }
   },
   "outputs": [],
   "source": [
    "# Repeat the same initial steps for any album, using the function\n",
    "df_waterloo = lyrics_df('Waterloo', 2)\n",
    "df_waterloo"
   ]
  },
  {
   "cell_type": "code",
   "execution_count": null,
   "metadata": {
    "ExecuteTime": {
     "end_time": "2021-10-30T14:42:53.173149Z",
     "start_time": "2021-10-30T14:42:53.166314Z"
    }
   },
   "outputs": [],
   "source": [
    "# Drop remixed songs\n",
    "df_waterloo = df_waterloo.copy().iloc[:-1]\n",
    "df_waterloo['n_tracks'] = 11"
   ]
  },
  {
   "cell_type": "code",
   "execution_count": null,
   "metadata": {
    "ExecuteTime": {
     "end_time": "2021-10-30T14:42:54.482055Z",
     "start_time": "2021-10-30T14:42:54.475464Z"
    }
   },
   "outputs": [],
   "source": [
    "# Notes\n",
    "df_waterloo['notes'] = np.nan\n",
    "df_waterloo.loc[df_waterloo.id_track==1, 'notes'] = '1st at the Eurovision Song Contest on April 6, 1974'"
   ]
  },
  {
   "cell_type": "code",
   "execution_count": null,
   "metadata": {
    "ExecuteTime": {
     "end_time": "2021-10-30T14:42:55.134931Z",
     "start_time": "2021-10-30T14:42:55.121587Z"
    }
   },
   "outputs": [],
   "source": [
    "df_waterloo"
   ]
  },
  {
   "cell_type": "markdown",
   "metadata": {},
   "source": [
    "## 3. ABBA\n",
    "Released: 21 April 1975\n",
    "- https://genius.com/albums/Abba/Abba\n",
    "- https://en.wikipedia.org/wiki/ABBA_(album)"
   ]
  },
  {
   "cell_type": "code",
   "execution_count": null,
   "metadata": {
    "ExecuteTime": {
     "end_time": "2021-10-30T14:59:00.515891Z",
     "start_time": "2021-10-30T14:58:51.415693Z"
    }
   },
   "outputs": [],
   "source": [
    "df_abba = lyrics_df('Abba', 3)\n",
    "df_abba"
   ]
  },
  {
   "cell_type": "code",
   "execution_count": null,
   "metadata": {
    "ExecuteTime": {
     "end_time": "2021-10-30T14:59:00.696371Z",
     "start_time": "2021-10-30T14:59:00.670855Z"
    }
   },
   "outputs": [],
   "source": [
    "df_abba"
   ]
  },
  {
   "cell_type": "code",
   "execution_count": null,
   "metadata": {
    "ExecuteTime": {
     "end_time": "2021-10-30T14:59:00.820071Z",
     "start_time": "2021-10-30T14:59:00.807661Z"
    }
   },
   "outputs": [],
   "source": [
    "# In this case, we add two songs and drop the instrumental one ('Intermezzo No. 1')\n",
    "df_abba['n_tracks'] = 12\n",
    "df_abba['notes'] = np.nan\n",
    "df_abba = df_abba.drop(index=8).reset_index(drop=True)"
   ]
  },
  {
   "cell_type": "code",
   "execution_count": null,
   "metadata": {
    "ExecuteTime": {
     "end_time": "2021-10-30T14:59:01.966708Z",
     "start_time": "2021-10-30T14:59:00.949165Z"
    },
    "scrolled": true
   },
   "outputs": [],
   "source": [
    "# 1st song to be added: 'Crazy World'\n",
    "song_crazy_world = genius.search_song(title='Crazy World', artist='ABBA', get_full_info=True)\n",
    "\n",
    "to_append = [3, df_abba.album[0], df_abba.release_date[0], df_abba.n_tracks_original[0], 11, song_crazy_world.title,\n",
    "             song_crazy_world.lyrics, 13, '2001 CD edition bonus tracks']\n",
    "\n",
    "to_append_series = pd.Series(to_append, index = df_abba.columns)\n",
    "df_abba = df_abba.append(to_append_series, ignore_index=True)"
   ]
  },
  {
   "cell_type": "code",
   "execution_count": null,
   "metadata": {
    "ExecuteTime": {
     "end_time": "2021-10-30T14:59:03.266683Z",
     "start_time": "2021-10-30T14:59:02.062225Z"
    }
   },
   "outputs": [],
   "source": [
    "# 2nd song: \"Pick a Bale of Cotton\"/\"On Top of Old Smokey\"/\"Midnight Special\" (medley)\n",
    "song_medley = genius.search_song(title='Pick a Bale of Cotton\"/\"On Top of Old Smokey\"/\"Midnight Special',\n",
    "                                 artist='ABBA', get_full_info=True)\n",
    "\n",
    "to_append = [3, df_abba.album[0], df_abba.release_date[0], df_abba.n_tracks_original[0], 12, song_medley.title,\n",
    "            song_medley.lyrics, 13, '2001 CD edition bonus tracks']\n",
    "\n",
    "to_append_series = pd.Series(to_append, index = df_abba.columns)\n",
    "df_abba = df_abba.append(to_append_series, ignore_index=True)"
   ]
  },
  {
   "cell_type": "code",
   "execution_count": null,
   "metadata": {
    "ExecuteTime": {
     "end_time": "2021-10-30T14:59:03.410655Z",
     "start_time": "2021-10-30T14:59:03.380216Z"
    }
   },
   "outputs": [],
   "source": [
    "df_abba.loc[:, 'id_track'] = range(1, 1+df_abba.shape[0]) # reset the id_track\n",
    "df_abba"
   ]
  },
  {
   "cell_type": "markdown",
   "metadata": {},
   "source": [
    "## 4. Arrival\n",
    "Released: 11 October 1976\n",
    "- https://genius.com/albums/Abba/Arrival\n",
    "- https://en.wikipedia.org/wiki/Arrival_(ABBA_album)"
   ]
  },
  {
   "cell_type": "code",
   "execution_count": null,
   "metadata": {
    "ExecuteTime": {
     "end_time": "2021-10-30T14:50:38.079839Z",
     "start_time": "2021-10-30T14:50:33.952936Z"
    }
   },
   "outputs": [],
   "source": [
    "df_arrival = lyrics_df('Arrival', 4)\n",
    "df_arrival"
   ]
  },
  {
   "cell_type": "code",
   "execution_count": null,
   "metadata": {
    "ExecuteTime": {
     "end_time": "2021-10-30T14:51:00.524215Z",
     "start_time": "2021-10-30T14:51:00.487669Z"
    }
   },
   "outputs": [],
   "source": [
    "df_arrival"
   ]
  },
  {
   "cell_type": "code",
   "execution_count": null,
   "metadata": {
    "ExecuteTime": {
     "end_time": "2021-10-30T14:52:03.398488Z",
     "start_time": "2021-10-30T14:52:03.388512Z"
    }
   },
   "outputs": [],
   "source": [
    "# We add again 2 songs and drop 'Arrival', which is defined as a instrumental w/ vocalisations song\n",
    "df_arrival['n_tracks'] = 11\n",
    "df_arrival['notes'] = np.nan\n",
    "df_arrival = df_arrival.drop(index=9).reset_index(drop=True)"
   ]
  },
  {
   "cell_type": "code",
   "execution_count": null,
   "metadata": {
    "ExecuteTime": {
     "end_time": "2021-10-30T14:52:15.780885Z",
     "start_time": "2021-10-30T14:52:14.332231Z"
    }
   },
   "outputs": [],
   "source": [
    "# 1st song: 'Fernando'\n",
    "song_fernando = genius.search_song(title='Fernando', artist='ABBA', get_full_info=True)\n",
    "\n",
    "to_append = [4, df_arrival.album[0], df_arrival.release_date[0], df_arrival.n_tracks_original[0], 10,\n",
    "             song_fernando.title, song_fernando.lyrics, df_arrival.n_tracks[0], '1997 CD edition bonus track']\n",
    "\n",
    "to_append_series = pd.Series(to_append, index = df_arrival.columns)\n",
    "df_arrival = df_arrival.append(to_append_series, ignore_index=True)"
   ]
  },
  {
   "cell_type": "code",
   "execution_count": null,
   "metadata": {
    "ExecuteTime": {
     "end_time": "2021-10-30T14:52:17.089508Z",
     "start_time": "2021-10-30T14:52:15.888148Z"
    }
   },
   "outputs": [],
   "source": [
    "# 2nd song: 'Happy Hawaii'\n",
    "song_happy_hawaii = genius.search_song(title='Happy Hawaii', artist='ABBA', get_full_info=True)\n",
    "\n",
    "to_append = [4, df_arrival.album[0], df_arrival.release_date[0], df_arrival.n_tracks_original[0], 11,\n",
    "             song_happy_hawaii.title, song_happy_hawaii.lyrics, df_arrival.n_tracks[0], '2001 CD edition bonus tracks']\n",
    "\n",
    "to_append_series = pd.Series(to_append, index = df_arrival.columns)\n",
    "df_arrival = df_arrival.append(to_append_series, ignore_index=True)"
   ]
  },
  {
   "cell_type": "code",
   "execution_count": null,
   "metadata": {
    "ExecuteTime": {
     "end_time": "2021-10-30T14:52:17.438144Z",
     "start_time": "2021-10-30T14:52:17.378939Z"
    }
   },
   "outputs": [],
   "source": [
    "df_arrival"
   ]
  },
  {
   "cell_type": "markdown",
   "metadata": {},
   "source": [
    "## 5. ABBA: The Album\n",
    "Released: 11 October 1976\n",
    "- https://genius.com/albums/Abba/Abba-the-album\n",
    "- https://en.wikipedia.org/wiki/Arrival_(ABBA_album)"
   ]
  },
  {
   "cell_type": "code",
   "execution_count": null,
   "metadata": {
    "ExecuteTime": {
     "end_time": "2021-10-30T14:59:38.371784Z",
     "start_time": "2021-10-30T14:59:31.704505Z"
    }
   },
   "outputs": [],
   "source": [
    "df_abba_album = lyrics_df('ABBA: The Album', 5)\n",
    "df_abba"
   ]
  },
  {
   "cell_type": "code",
   "execution_count": null,
   "metadata": {
    "ExecuteTime": {
     "end_time": "2021-10-30T14:59:38.482910Z",
     "start_time": "2021-10-30T14:59:38.469812Z"
    }
   },
   "outputs": [],
   "source": [
    "df_abba_album"
   ]
  },
  {
   "cell_type": "code",
   "execution_count": null,
   "metadata": {
    "ExecuteTime": {
     "end_time": "2021-10-30T14:59:38.571408Z",
     "start_time": "2021-10-30T14:59:38.566994Z"
    }
   },
   "outputs": [],
   "source": [
    "df_abba_album['n_tracks'] = 9\n",
    "df_abba_album['notes'] = np.nan"
   ]
  },
  {
   "cell_type": "markdown",
   "metadata": {},
   "source": [
    "## 6. Voulez-Vous\n",
    "Released: 23 april 1979\n",
    "- https://genius.com/albums/Abba/Voulez-vous\n",
    "- https://en.wikipedia.org/wiki/Voulez-Vous"
   ]
  },
  {
   "cell_type": "code",
   "execution_count": null,
   "metadata": {
    "ExecuteTime": {
     "end_time": "2021-10-30T15:01:15.307641Z",
     "start_time": "2021-10-30T15:01:08.125887Z"
    }
   },
   "outputs": [],
   "source": [
    "df_voulez_vous = lyrics_df('Voulez-Vous', 6)\n",
    "df_voulez_vous"
   ]
  },
  {
   "cell_type": "code",
   "execution_count": null,
   "metadata": {
    "ExecuteTime": {
     "end_time": "2021-10-30T15:01:15.485276Z",
     "start_time": "2021-10-30T15:01:15.469283Z"
    }
   },
   "outputs": [],
   "source": [
    "# Adjustments\n",
    "df_voulez_vous['n_tracks'] = 14\n",
    "df_voulez_vous['notes'] = np.nan\n",
    "df_voulez_vous.loc[df_voulez_vous.id_track==11, 'notes'] = '1997 CD edition bonus tracks'\n",
    "df_voulez_vous.loc[df_voulez_vous.id_track==12, 'notes'] = 'The Definitive Collection 2001 CD edition bonus tracks'\n",
    "df_voulez_vous.loc[df_voulez_vous.id_track==13, 'notes'] = 'The Definitive Collection 2001 CD edition bonus tracks'\n",
    "df_voulez_vous.loc[df_voulez_vous.id_track==17, 'notes'] = '2010 deluxe edition (The Dynamic Album) bonus tracks'\n",
    "df_voulez_vous = df_voulez_vous[~df_voulez_vous.id_track.isin([14, 15, 16, 18])]"
   ]
  },
  {
   "cell_type": "code",
   "execution_count": null,
   "metadata": {
    "ExecuteTime": {
     "end_time": "2021-10-30T15:01:30.804584Z",
     "start_time": "2021-10-30T15:01:30.786775Z"
    }
   },
   "outputs": [],
   "source": [
    "# Reset index and id track column\n",
    "df_voulez_vous.loc[:, 'id_track'] = range(1, 1+df_voulez_vous.shape[0])\n",
    "df_voulez_vous = df_voulez_vous.reset_index(drop=True)\n",
    "df_voulez_vous"
   ]
  },
  {
   "cell_type": "markdown",
   "metadata": {},
   "source": [
    "## 7. Super Trouper\n",
    "Released: 3 November 1980\n",
    "- https://genius.com/albums/Abba/Super-trouper\n",
    "- https://en.wikipedia.org/wiki/Super_Trouper_(album)"
   ]
  },
  {
   "cell_type": "code",
   "execution_count": null,
   "metadata": {
    "ExecuteTime": {
     "end_time": "2021-10-30T15:02:36.858842Z",
     "start_time": "2021-10-30T15:02:20.562254Z"
    }
   },
   "outputs": [],
   "source": [
    "df_super_trouper = lyrics_df('Super Trouper', 7)\n",
    "df_super_trouper"
   ]
  },
  {
   "cell_type": "code",
   "execution_count": null,
   "metadata": {
    "ExecuteTime": {
     "end_time": "2021-10-30T15:02:45.984371Z",
     "start_time": "2021-10-30T15:02:45.974311Z"
    }
   },
   "outputs": [],
   "source": [
    "# Adjustments\n",
    "df_super_trouper['n_tracks'] = 12\n",
    "df_super_trouper['notes'] = np.nan\n",
    "df_super_trouper = df_super_trouper.copy().iloc[:-2]\n",
    "df_super_trouper.loc[df_super_trouper.id_track==11, 'notes'] = '1997 CD edition bonus tracks'\n",
    "df_super_trouper.loc[df_super_trouper.id_track==12, 'notes'] = '1997 CD edition bonus tracks'"
   ]
  },
  {
   "cell_type": "code",
   "execution_count": null,
   "metadata": {
    "ExecuteTime": {
     "end_time": "2021-10-30T15:02:53.691063Z",
     "start_time": "2021-10-30T15:02:53.655495Z"
    }
   },
   "outputs": [],
   "source": [
    "df_super_trouper"
   ]
  },
  {
   "cell_type": "markdown",
   "metadata": {},
   "source": [
    "## 8. The Visitors\n",
    "Released: 30 November 1981\n",
    "- https://genius.com/albums/Abba/The-visitors\n",
    "- https://en.wikipedia.org/wiki/The_Visitors_(ABBA_album)"
   ]
  },
  {
   "cell_type": "code",
   "execution_count": null,
   "metadata": {
    "ExecuteTime": {
     "end_time": "2021-10-30T15:03:48.730689Z",
     "start_time": "2021-10-30T15:03:28.235781Z"
    }
   },
   "outputs": [],
   "source": [
    "df_visitors = lyrics_df('The Visitors', 8)\n",
    "df_visitors"
   ]
  },
  {
   "cell_type": "code",
   "execution_count": null,
   "metadata": {
    "ExecuteTime": {
     "end_time": "2021-10-30T15:03:57.076064Z",
     "start_time": "2021-10-30T15:03:57.045456Z"
    }
   },
   "outputs": [],
   "source": [
    "# Adjustments\n",
    "df_visitors['n_tracks'] = 16\n",
    "df_visitors['notes'] = np.nan\n",
    "\n",
    "df_visitors = df_visitors[~df_visitors.id_track.isin([11, 12])] # Drop Spanish songs\n",
    "\n",
    "df_visitors.loc[df_visitors.id_track==10, 'notes'] = '1997 CD edition bonus tracks'\n",
    "df_visitors.loc[df_visitors.id_track==14, 'notes'] = '1997 CD edition bonus tracks'\n",
    "df_visitors.loc[df_visitors.id_track==16, 'notes'] = '1997 CD edition bonus tracks'\n",
    "df_visitors.loc[df_visitors.id_track==17, 'notes'] = '1997 CD edition bonus tracks'\n",
    "\n",
    "df_visitors.loc[df_visitors.id_track==15, 'notes'] = '2001 CD edition bonus tracks'\n",
    "df_visitors.loc[df_visitors.id_track==13, 'notes'] = '2012 deluxe edition (The Final Album) bonus tracks'\n",
    "df_visitors.loc[df_visitors.id_track==18, 'notes'] = '2012 deluxe edition (The Final Album) bonus tracks'"
   ]
  },
  {
   "cell_type": "code",
   "execution_count": null,
   "metadata": {
    "ExecuteTime": {
     "end_time": "2021-10-30T15:04:56.695818Z",
     "start_time": "2021-10-30T15:04:56.680424Z"
    }
   },
   "outputs": [],
   "source": [
    "df_visitors = df_visitors.reset_index(drop=True)\n",
    "df_visitors"
   ]
  },
  {
   "cell_type": "markdown",
   "metadata": {},
   "source": [
    "## Concatenate all the 8 datasets and save the resulting df"
   ]
  },
  {
   "cell_type": "code",
   "execution_count": null,
   "metadata": {
    "ExecuteTime": {
     "end_time": "2021-10-30T15:07:35.610394Z",
     "start_time": "2021-10-30T15:07:35.590516Z"
    }
   },
   "outputs": [],
   "source": [
    "df = pd.concat([\n",
    "    df_ring_ring,\n",
    "    df_waterloo,\n",
    "    df_abba,\n",
    "    df_arrival,\n",
    "    df_abba_album,\n",
    "    df_voulez_vous,\n",
    "    df_super_trouper,\n",
    "    df_visitors\n",
    "])\n",
    "\n",
    "df.reset_index(drop=True, inplace=True)"
   ]
  },
  {
   "cell_type": "code",
   "execution_count": null,
   "metadata": {
    "ExecuteTime": {
     "end_time": "2021-10-30T15:07:37.470288Z",
     "start_time": "2021-10-30T15:07:37.462682Z"
    }
   },
   "outputs": [],
   "source": [
    "df.shape"
   ]
  },
  {
   "cell_type": "code",
   "execution_count": null,
   "metadata": {
    "ExecuteTime": {
     "end_time": "2021-10-30T15:08:09.817494Z",
     "start_time": "2021-10-30T15:08:09.792999Z"
    }
   },
   "outputs": [],
   "source": [
    "df.to_csv('../data/df_abba_lyrics.csv', index=False)"
   ]
  }
 ],
 "metadata": {
  "kernelspec": {
   "display_name": "myenv_python38",
   "language": "python",
   "name": "myenv_python38"
  },
  "language_info": {
   "codemirror_mode": {
    "name": "ipython",
    "version": 3
   },
   "file_extension": ".py",
   "mimetype": "text/x-python",
   "name": "python",
   "nbconvert_exporter": "python",
   "pygments_lexer": "ipython3",
   "version": "3.8.11"
  },
  "varInspector": {
   "cols": {
    "lenName": 16,
    "lenType": 16,
    "lenVar": 40
   },
   "kernels_config": {
    "python": {
     "delete_cmd_postfix": "",
     "delete_cmd_prefix": "del ",
     "library": "var_list.py",
     "varRefreshCmd": "print(var_dic_list())"
    },
    "r": {
     "delete_cmd_postfix": ") ",
     "delete_cmd_prefix": "rm(",
     "library": "var_list.r",
     "varRefreshCmd": "cat(var_dic_list()) "
    }
   },
   "types_to_exclude": [
    "module",
    "function",
    "builtin_function_or_method",
    "instance",
    "_Feature"
   ],
   "window_display": false
  }
 },
 "nbformat": 4,
 "nbformat_minor": 4
}
