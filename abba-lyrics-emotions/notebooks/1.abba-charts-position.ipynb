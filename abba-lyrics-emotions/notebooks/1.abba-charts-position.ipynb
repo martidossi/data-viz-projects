{
 "cells": [
  {
   "cell_type": "markdown",
   "metadata": {},
   "source": [
    "This notebook enriches the lyrics dataframe with information about the **chart positions** reached by the most successful songs. Some documentation:\n",
    "- **UK Official charts** - *28 songs*\n",
    "    - https://www.officialcharts.com/artist/8604/abba/\n",
    "\n",
    "- **US Billboard top 100** - *20 songs*\n",
    "    - https://www.billboard.com/music/abba/chart-history/HSI\n",
    "    - https://chart-history.net/abba/"
   ]
  },
  {
   "cell_type": "code",
   "execution_count": null,
   "metadata": {
    "ExecuteTime": {
     "end_time": "2021-10-30T15:16:20.157142Z",
     "start_time": "2021-10-30T15:16:20.143521Z"
    }
   },
   "outputs": [],
   "source": [
    "import pandas as pd"
   ]
  },
  {
   "cell_type": "code",
   "execution_count": null,
   "metadata": {
    "ExecuteTime": {
     "end_time": "2021-10-30T15:16:22.474571Z",
     "start_time": "2021-10-30T15:16:22.376274Z"
    }
   },
   "outputs": [],
   "source": [
    "df = pd.read_csv('../data/df_abba_lyrics.csv')\n",
    "df"
   ]
  },
  {
   "cell_type": "code",
   "execution_count": null,
   "metadata": {
    "ExecuteTime": {
     "end_time": "2021-10-30T15:17:31.014485Z",
     "start_time": "2021-10-30T15:17:30.953423Z"
    }
   },
   "outputs": [],
   "source": [
    "# Collecting information\n",
    "\n",
    "ring_ring = ['Ring Ring', 32, 5, 0, 0, 0, 0]\n",
    "waterloo = ['Waterloo', 1, 12, 2, 6, 17, 0]\n",
    "honey_honey = ['Honey, Honey', 0, 0, 0, 27, 10, 0] # not released in us\n",
    "mamma_mia = ['Mamma Mia', 1, 21, 2, 32, 9, 0] \n",
    "sos = ['S.O.S.', 6, 10, 0, 15, 17, 0]\n",
    "i_do = ['I Do, I Do, I Do, I Do, I Do', 38, 6, 0, 15, 15, 0]\n",
    "dancing_queen = ['Dancing Queen', 1, 20, 6, 1, 22, 1]\n",
    "knowing_me = ['Knowing Me, Knowing You', 1, 13, 5, 14, 15, 0]\n",
    "money = ['Money, Money, Money', 3, 12, 0, 56, 7, 0]\n",
    "fernando = ['Fernando', 1, 15, 4, 13, 16, 0]\n",
    "chance = ['Take a Chance on Me', 1, 10, 3, 3, 18, 0]\n",
    "game = ['The Name of the Game', 1, 12, 4, 12, 16, 0]\n",
    "music = ['Thank You for the Music', 33, 6, 0, 0, 0, 0]\n",
    "voulez_vous = ['Voulez-Vous', 3, 11, 0, 80, 3, 0]\n",
    "angeleyes = ['Angeleyes', 3, 11, 0, 64, 5, 0]\n",
    "dream = ['I Have a Dream', 2, 10, 0, 0, 0, 0]\n",
    "mother = ['Does Your Mother Know', 4, 9, 0, 19, 14, 0]\n",
    "chiquitita = ['Chiquitita', 2, 9, 0, 29, 12, 0]\n",
    "summer = ['Summer Night City', 5, 9, 0, 0, 0, 0]\n",
    "gimme = ['Gimme! Gimme! Gimme! (A Man After Midnight)', 3, 12, 0, 0, 0, 0]\n",
    "super_trouper = ['Super Trouper', 1, 12, 3, 45, 11, 0]\n",
    "winner = ['The Winner Takes It All', 1, 10, 2, 8, 26, 0]\n",
    "on = ['On and On and On', 0, 0, 0, 90, 6, 0]\n",
    "lay_love = ['Lay All Your Love on Me', 7, 7, 0, 0, 0, 0]\n",
    "one = ['One of Us', 3, 10, 0, 0, 0, 0]\n",
    "head = ['Head Over Heels', 25, 7, 0, 0, 0, 0]\n",
    "all_said = ['When All Is Said and Done', 0, 0, 0, 27, 14, 0]\n",
    "day_before = ['The Day Before You Came', 32, 6, 0, 0, 0, 0]\n",
    "attack = ['Under Attack', 26, 8, 0, 0, 0, 0]\n",
    "visitors = ['The Visitors', 0, 0, 0, 63, 8, 0]\n",
    "\n",
    "uk_us_charts_data = [\n",
    "    ring_ring, \n",
    "    waterloo, honey_honey,\n",
    "    mamma_mia, sos, i_do,\n",
    "    dancing_queen, knowing_me, money, fernando,\n",
    "    chance, game, music,\n",
    "    voulez_vous, angeleyes, dream, mother, chiquitita, summer, gimme,\n",
    "    super_trouper, winner, on, lay_love,\n",
    "    one, head, all_said, day_before, attack, visitors\n",
    "] \n",
    "\n",
    "uk_us_charts = pd.DataFrame(\n",
    "    data=uk_us_charts_data, \n",
    "    columns=['track', 'uk_peak_pos', 'uk_woc', 'uk_weeks_n1', 'us_peak_pos', 'us_woc', 'us_weeks_n1']\n",
    ")\n",
    "uk_us_charts"
   ]
  },
  {
   "cell_type": "code",
   "execution_count": null,
   "metadata": {
    "ExecuteTime": {
     "end_time": "2021-10-30T15:17:37.628787Z",
     "start_time": "2021-10-30T15:17:37.562360Z"
    }
   },
   "outputs": [],
   "source": [
    "df = df.merge(uk_us_charts, on='track', how='left')\n",
    "df"
   ]
  },
  {
   "cell_type": "code",
   "execution_count": null,
   "metadata": {
    "ExecuteTime": {
     "end_time": "2021-10-30T15:17:44.389162Z",
     "start_time": "2021-10-30T15:17:44.379050Z"
    }
   },
   "outputs": [],
   "source": [
    "df.to_csv('../data/df_abba_charts.csv', index=False)"
   ]
  },
  {
   "cell_type": "code",
   "execution_count": null,
   "metadata": {},
   "outputs": [],
   "source": []
  }
 ],
 "metadata": {
  "kernelspec": {
   "display_name": "myenv_python38",
   "language": "python",
   "name": "myenv_python38"
  },
  "language_info": {
   "codemirror_mode": {
    "name": "ipython",
    "version": 3
   },
   "file_extension": ".py",
   "mimetype": "text/x-python",
   "name": "python",
   "nbconvert_exporter": "python",
   "pygments_lexer": "ipython3",
   "version": "3.8.11"
  },
  "varInspector": {
   "cols": {
    "lenName": 16,
    "lenType": 16,
    "lenVar": 40
   },
   "kernels_config": {
    "python": {
     "delete_cmd_postfix": "",
     "delete_cmd_prefix": "del ",
     "library": "var_list.py",
     "varRefreshCmd": "print(var_dic_list())"
    },
    "r": {
     "delete_cmd_postfix": ") ",
     "delete_cmd_prefix": "rm(",
     "library": "var_list.r",
     "varRefreshCmd": "cat(var_dic_list()) "
    }
   },
   "types_to_exclude": [
    "module",
    "function",
    "builtin_function_or_method",
    "instance",
    "_Feature"
   ],
   "window_display": false
  }
 },
 "nbformat": 4,
 "nbformat_minor": 4
}
