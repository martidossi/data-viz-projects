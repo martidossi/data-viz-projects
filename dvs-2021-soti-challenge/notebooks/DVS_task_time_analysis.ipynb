{
 "cells": [
  {
   "cell_type": "markdown",
   "metadata": {},
   "source": [
    "# Data Visualization: State of the Industry 2021 - *2021 challenge*"
   ]
  },
  {
   "cell_type": "code",
   "execution_count": 49,
   "metadata": {
    "ExecuteTime": {
     "end_time": "2022-01-22T18:09:17.550335Z",
     "start_time": "2022-01-22T18:09:17.543790Z"
    }
   },
   "outputs": [],
   "source": [
    "# DATA ANALYSIS\n",
    "import pandas as pd\n",
    "import numpy as np\n",
    "\n",
    "# TEXT ANALYSIS\n",
    "import re # library for regular expression operations\n",
    "import string # for string operations\n",
    "# Stop words:\n",
    "from nltk.corpus import stopwords  \n",
    "stop_words = set(stopwords.words('english'))\n",
    "# Tokenization:\n",
    "from nltk.tokenize import word_tokenize\n",
    "# Lemmatizer:\n",
    "from nltk.stem import WordNetLemmatizer\n",
    "wordnet_lemmatizer = WordNetLemmatizer()"
   ]
  },
  {
   "cell_type": "code",
   "execution_count": 50,
   "metadata": {
    "ExecuteTime": {
     "end_time": "2022-01-22T18:09:18.293210Z",
     "start_time": "2022-01-22T18:09:18.273999Z"
    }
   },
   "outputs": [],
   "source": [
    "# Load the data\n",
    "df = pd.read_csv('../data/input/data_2021_jobtitles_taskstime_dvs-soti_v1.csv', low_memory=False)"
   ]
  },
  {
   "cell_type": "code",
   "execution_count": 51,
   "metadata": {
    "ExecuteTime": {
     "end_time": "2022-01-22T18:09:19.254591Z",
     "start_time": "2022-01-22T18:09:19.229416Z"
    }
   },
   "outputs": [
    {
     "data": {
      "text/html": [
       "<div>\n",
       "<style scoped>\n",
       "    .dataframe tbody tr th:only-of-type {\n",
       "        vertical-align: middle;\n",
       "    }\n",
       "\n",
       "    .dataframe tbody tr th {\n",
       "        vertical-align: top;\n",
       "    }\n",
       "\n",
       "    .dataframe thead th {\n",
       "        text-align: right;\n",
       "    }\n",
       "</style>\n",
       "<table border=\"1\" class=\"dataframe\">\n",
       "  <thead>\n",
       "    <tr style=\"text-align: right;\">\n",
       "      <th></th>\n",
       "      <th>JobTitle__lightlycleaned</th>\n",
       "      <th>RoleMultichoice_composite</th>\n",
       "      <th>TimeWorked</th>\n",
       "      <th>TimeDataPrep</th>\n",
       "      <th>TimeDataAnalysis</th>\n",
       "      <th>TimeIdeating</th>\n",
       "      <th>TimeProducingViz</th>\n",
       "      <th>TimeOtherVizTasks</th>\n",
       "      <th>OtherVizTasks__</th>\n",
       "      <th>altID</th>\n",
       "    </tr>\n",
       "  </thead>\n",
       "  <tbody>\n",
       "    <tr>\n",
       "      <th>0</th>\n",
       "      <td>Data Visualization Developer</td>\n",
       "      <td>Journalist</td>\n",
       "      <td>30–39 hours</td>\n",
       "      <td>11–20 hours</td>\n",
       "      <td>6–10 hours</td>\n",
       "      <td>6–10 hours</td>\n",
       "      <td>11–20 hours</td>\n",
       "      <td>11–20 hours</td>\n",
       "      <td>Writing, reporting and editing other people's ...</td>\n",
       "      <td>1</td>\n",
       "    </tr>\n",
       "    <tr>\n",
       "      <th>1</th>\n",
       "      <td>Data storyteller</td>\n",
       "      <td>Leadership (Manager, Director, VP, etc.)</td>\n",
       "      <td>40–49 hours</td>\n",
       "      <td>5 hours or less</td>\n",
       "      <td>6–10 hours</td>\n",
       "      <td>11–20 hours</td>\n",
       "      <td>21–30 hours</td>\n",
       "      <td>6–10 hours</td>\n",
       "      <td>Writing, blogging, social about the topic</td>\n",
       "      <td>2</td>\n",
       "    </tr>\n",
       "    <tr>\n",
       "      <th>2</th>\n",
       "      <td>Research &amp; Data Analyst</td>\n",
       "      <td>Analyst</td>\n",
       "      <td>40–49 hours</td>\n",
       "      <td>5 hours or less</td>\n",
       "      <td>5 hours or less</td>\n",
       "      <td>5 hours or less</td>\n",
       "      <td>5 hours or less</td>\n",
       "      <td>5 hours or less</td>\n",
       "      <td>Writing takeaways associated with the visualiz...</td>\n",
       "      <td>3</td>\n",
       "    </tr>\n",
       "    <tr>\n",
       "      <th>3</th>\n",
       "      <td>Director, Technical Consulting</td>\n",
       "      <td>Leadership (Manager, Director, VP, etc.)</td>\n",
       "      <td>40–49 hours</td>\n",
       "      <td>5 hours or less</td>\n",
       "      <td>5 hours or less</td>\n",
       "      <td>5 hours or less</td>\n",
       "      <td>5 hours or less</td>\n",
       "      <td>5 hours or less</td>\n",
       "      <td>Writing software to support making visualizations</td>\n",
       "      <td>4</td>\n",
       "    </tr>\n",
       "    <tr>\n",
       "      <th>4</th>\n",
       "      <td>Data Visualization Developer</td>\n",
       "      <td>Developer</td>\n",
       "      <td>50–59 hours</td>\n",
       "      <td>21–30 hours</td>\n",
       "      <td>6–10 hours</td>\n",
       "      <td>5 hours or less</td>\n",
       "      <td>5 hours or less</td>\n",
       "      <td>11–20 hours</td>\n",
       "      <td>Writing scripts to ingest new data</td>\n",
       "      <td>5</td>\n",
       "    </tr>\n",
       "  </tbody>\n",
       "</table>\n",
       "</div>"
      ],
      "text/plain": [
       "         JobTitle__lightlycleaned                 RoleMultichoice_composite  \\\n",
       "0    Data Visualization Developer                                Journalist   \n",
       "1                Data storyteller  Leadership (Manager, Director, VP, etc.)   \n",
       "2         Research & Data Analyst                                   Analyst   \n",
       "3  Director, Technical Consulting  Leadership (Manager, Director, VP, etc.)   \n",
       "4    Data Visualization Developer                                 Developer   \n",
       "\n",
       "    TimeWorked     TimeDataPrep TimeDataAnalysis     TimeIdeating  \\\n",
       "0  30–39 hours      11–20 hours       6–10 hours       6–10 hours   \n",
       "1  40–49 hours  5 hours or less       6–10 hours      11–20 hours   \n",
       "2  40–49 hours  5 hours or less  5 hours or less  5 hours or less   \n",
       "3  40–49 hours  5 hours or less  5 hours or less  5 hours or less   \n",
       "4  50–59 hours      21–30 hours       6–10 hours  5 hours or less   \n",
       "\n",
       "  TimeProducingViz TimeOtherVizTasks  \\\n",
       "0      11–20 hours       11–20 hours   \n",
       "1      21–30 hours        6–10 hours   \n",
       "2  5 hours or less   5 hours or less   \n",
       "3  5 hours or less   5 hours or less   \n",
       "4  5 hours or less       11–20 hours   \n",
       "\n",
       "                                     OtherVizTasks__  altID  \n",
       "0  Writing, reporting and editing other people's ...      1  \n",
       "1          Writing, blogging, social about the topic      2  \n",
       "2  Writing takeaways associated with the visualiz...      3  \n",
       "3  Writing software to support making visualizations      4  \n",
       "4                 Writing scripts to ingest new data      5  "
      ]
     },
     "execution_count": 51,
     "metadata": {},
     "output_type": "execute_result"
    }
   ],
   "source": [
    "df.head()"
   ]
  },
  {
   "cell_type": "code",
   "execution_count": 52,
   "metadata": {
    "ExecuteTime": {
     "end_time": "2022-01-22T18:09:20.479234Z",
     "start_time": "2022-01-22T18:09:20.474917Z"
    }
   },
   "outputs": [
    {
     "data": {
      "text/plain": [
       "(2165, 10)"
      ]
     },
     "execution_count": 52,
     "metadata": {},
     "output_type": "execute_result"
    }
   ],
   "source": [
    "df.shape"
   ]
  },
  {
   "cell_type": "code",
   "execution_count": 53,
   "metadata": {
    "ExecuteTime": {
     "end_time": "2022-01-22T18:09:21.225900Z",
     "start_time": "2022-01-22T18:09:21.217560Z"
    }
   },
   "outputs": [
    {
     "data": {
      "text/plain": [
       "Analyst                                     557\n",
       "Leadership (Manager, Director, VP, etc.)    297\n",
       "NaN                                         275\n",
       "Designer                                    229\n",
       "Developer                                   180\n",
       "Scientist                                   122\n",
       "Academic/Teacher                            114\n",
       "Student                                     102\n",
       "Engineer                                     98\n",
       "None of these describes my role              95\n",
       "Journalist                                   64\n",
       "Teacher                                      21\n",
       "Cartographer                                 11\n",
       "Name: RoleMultichoice_composite, dtype: int64"
      ]
     },
     "execution_count": 53,
     "metadata": {},
     "output_type": "execute_result"
    }
   ],
   "source": [
    "df.RoleMultichoice_composite.value_counts(dropna=False)"
   ]
  },
  {
   "cell_type": "code",
   "execution_count": 54,
   "metadata": {
    "ExecuteTime": {
     "end_time": "2022-01-22T18:09:21.931122Z",
     "start_time": "2022-01-22T18:09:21.923168Z"
    }
   },
   "outputs": [
    {
     "data": {
      "text/plain": [
       "Analyst                                     557\n",
       "None of these describes my role             370\n",
       "Leadership (Manager, Director, VP, etc.)    297\n",
       "Designer                                    229\n",
       "Developer                                   180\n",
       "Scientist                                   122\n",
       "Academic/Teacher                            114\n",
       "Student                                     102\n",
       "Engineer                                     98\n",
       "Journalist                                   64\n",
       "Teacher                                      21\n",
       "Cartographer                                 11\n",
       "Name: RoleMultichoice_composite, dtype: int64"
      ]
     },
     "execution_count": 54,
     "metadata": {},
     "output_type": "execute_result"
    }
   ],
   "source": [
    "# First assumption: nan job titles = None of these describes my role\n",
    "# They both refer to something else, not listed in the job titles \n",
    "df['RoleMultichoice_composite'] = df['RoleMultichoice_composite'].fillna('None of these describes my role')\n",
    "df.RoleMultichoice_composite.value_counts(dropna=False)"
   ]
  },
  {
   "cell_type": "code",
   "execution_count": 55,
   "metadata": {
    "ExecuteTime": {
     "end_time": "2022-01-22T18:09:24.906828Z",
     "start_time": "2022-01-22T18:09:24.899350Z"
    }
   },
   "outputs": [],
   "source": [
    "# Replacing remaining nan values with None\n",
    "df = df.fillna('None')"
   ]
  },
  {
   "cell_type": "code",
   "execution_count": 56,
   "metadata": {
    "ExecuteTime": {
     "end_time": "2022-01-22T18:09:26.381421Z",
     "start_time": "2022-01-22T18:09:26.360134Z"
    }
   },
   "outputs": [
    {
     "data": {
      "text/html": [
       "<div>\n",
       "<style scoped>\n",
       "    .dataframe tbody tr th:only-of-type {\n",
       "        vertical-align: middle;\n",
       "    }\n",
       "\n",
       "    .dataframe tbody tr th {\n",
       "        vertical-align: top;\n",
       "    }\n",
       "\n",
       "    .dataframe thead th {\n",
       "        text-align: right;\n",
       "    }\n",
       "</style>\n",
       "<table border=\"1\" class=\"dataframe\">\n",
       "  <thead>\n",
       "    <tr style=\"text-align: right;\">\n",
       "      <th></th>\n",
       "      <th>role</th>\n",
       "      <th>persons_role</th>\n",
       "    </tr>\n",
       "  </thead>\n",
       "  <tbody>\n",
       "    <tr>\n",
       "      <th>0</th>\n",
       "      <td>Analyst</td>\n",
       "      <td>557</td>\n",
       "    </tr>\n",
       "    <tr>\n",
       "      <th>1</th>\n",
       "      <td>None of these describes my role</td>\n",
       "      <td>370</td>\n",
       "    </tr>\n",
       "    <tr>\n",
       "      <th>2</th>\n",
       "      <td>Leadership (Manager, Director, VP, etc.)</td>\n",
       "      <td>297</td>\n",
       "    </tr>\n",
       "    <tr>\n",
       "      <th>3</th>\n",
       "      <td>Designer</td>\n",
       "      <td>229</td>\n",
       "    </tr>\n",
       "    <tr>\n",
       "      <th>4</th>\n",
       "      <td>Developer</td>\n",
       "      <td>180</td>\n",
       "    </tr>\n",
       "    <tr>\n",
       "      <th>5</th>\n",
       "      <td>Scientist</td>\n",
       "      <td>122</td>\n",
       "    </tr>\n",
       "    <tr>\n",
       "      <th>6</th>\n",
       "      <td>Academic/Teacher</td>\n",
       "      <td>114</td>\n",
       "    </tr>\n",
       "    <tr>\n",
       "      <th>7</th>\n",
       "      <td>Student</td>\n",
       "      <td>102</td>\n",
       "    </tr>\n",
       "    <tr>\n",
       "      <th>8</th>\n",
       "      <td>Engineer</td>\n",
       "      <td>98</td>\n",
       "    </tr>\n",
       "    <tr>\n",
       "      <th>9</th>\n",
       "      <td>Journalist</td>\n",
       "      <td>64</td>\n",
       "    </tr>\n",
       "    <tr>\n",
       "      <th>10</th>\n",
       "      <td>Teacher</td>\n",
       "      <td>21</td>\n",
       "    </tr>\n",
       "    <tr>\n",
       "      <th>11</th>\n",
       "      <td>Cartographer</td>\n",
       "      <td>11</td>\n",
       "    </tr>\n",
       "  </tbody>\n",
       "</table>\n",
       "</div>"
      ],
      "text/plain": [
       "                                        role  persons_role\n",
       "0                                    Analyst           557\n",
       "1            None of these describes my role           370\n",
       "2   Leadership (Manager, Director, VP, etc.)           297\n",
       "3                                   Designer           229\n",
       "4                                  Developer           180\n",
       "5                                  Scientist           122\n",
       "6                           Academic/Teacher           114\n",
       "7                                    Student           102\n",
       "8                                   Engineer            98\n",
       "9                                 Journalist            64\n",
       "10                                   Teacher            21\n",
       "11                              Cartographer            11"
      ]
     },
     "execution_count": 56,
     "metadata": {},
     "output_type": "execute_result"
    }
   ],
   "source": [
    "df_roles = pd.DataFrame(df.RoleMultichoice_composite.value_counts(dropna=False)).reset_index()\n",
    "df_roles.columns = ['role', 'persons_role']\n",
    "df_roles"
   ]
  },
  {
   "cell_type": "code",
   "execution_count": 57,
   "metadata": {
    "ExecuteTime": {
     "end_time": "2022-01-22T18:09:30.815363Z",
     "start_time": "2022-01-22T18:09:30.809281Z"
    }
   },
   "outputs": [],
   "source": [
    "df_roles.to_csv('../data/output/role_count.csv', index=False)"
   ]
  },
  {
   "cell_type": "code",
   "execution_count": 80,
   "metadata": {
    "ExecuteTime": {
     "end_time": "2022-01-22T18:14:03.965085Z",
     "start_time": "2022-01-22T18:14:03.926541Z"
    }
   },
   "outputs": [
    {
     "data": {
      "text/html": [
       "<div>\n",
       "<style scoped>\n",
       "    .dataframe tbody tr th:only-of-type {\n",
       "        vertical-align: middle;\n",
       "    }\n",
       "\n",
       "    .dataframe tbody tr th {\n",
       "        vertical-align: top;\n",
       "    }\n",
       "\n",
       "    .dataframe thead th {\n",
       "        text-align: right;\n",
       "    }\n",
       "</style>\n",
       "<table border=\"1\" class=\"dataframe\">\n",
       "  <thead>\n",
       "    <tr style=\"text-align: right;\">\n",
       "      <th></th>\n",
       "      <th>RoleMultichoice_composite</th>\n",
       "      <th>TimeWorked</th>\n",
       "      <th>count</th>\n",
       "    </tr>\n",
       "  </thead>\n",
       "  <tbody>\n",
       "    <tr>\n",
       "      <th>0</th>\n",
       "      <td>Academic/Teacher</td>\n",
       "      <td>20–29 hours</td>\n",
       "      <td>3</td>\n",
       "    </tr>\n",
       "    <tr>\n",
       "      <th>1</th>\n",
       "      <td>Academic/Teacher</td>\n",
       "      <td>30–39 hours</td>\n",
       "      <td>28</td>\n",
       "    </tr>\n",
       "    <tr>\n",
       "      <th>2</th>\n",
       "      <td>Academic/Teacher</td>\n",
       "      <td>40–49 hours</td>\n",
       "      <td>47</td>\n",
       "    </tr>\n",
       "    <tr>\n",
       "      <th>3</th>\n",
       "      <td>Academic/Teacher</td>\n",
       "      <td>50–59 hours</td>\n",
       "      <td>19</td>\n",
       "    </tr>\n",
       "    <tr>\n",
       "      <th>4</th>\n",
       "      <td>Academic/Teacher</td>\n",
       "      <td>60–69 hours</td>\n",
       "      <td>6</td>\n",
       "    </tr>\n",
       "    <tr>\n",
       "      <th>...</th>\n",
       "      <td>...</td>\n",
       "      <td>...</td>\n",
       "      <td>...</td>\n",
       "    </tr>\n",
       "    <tr>\n",
       "      <th>76</th>\n",
       "      <td>Teacher</td>\n",
       "      <td>20–29 hours</td>\n",
       "      <td>1</td>\n",
       "    </tr>\n",
       "    <tr>\n",
       "      <th>77</th>\n",
       "      <td>Teacher</td>\n",
       "      <td>30–39 hours</td>\n",
       "      <td>7</td>\n",
       "    </tr>\n",
       "    <tr>\n",
       "      <th>78</th>\n",
       "      <td>Teacher</td>\n",
       "      <td>40–49 hours</td>\n",
       "      <td>7</td>\n",
       "    </tr>\n",
       "    <tr>\n",
       "      <th>79</th>\n",
       "      <td>Teacher</td>\n",
       "      <td>50–59 hours</td>\n",
       "      <td>3</td>\n",
       "    </tr>\n",
       "    <tr>\n",
       "      <th>80</th>\n",
       "      <td>Teacher</td>\n",
       "      <td>Fewer than 20 hours</td>\n",
       "      <td>3</td>\n",
       "    </tr>\n",
       "  </tbody>\n",
       "</table>\n",
       "<p>81 rows × 3 columns</p>\n",
       "</div>"
      ],
      "text/plain": [
       "   RoleMultichoice_composite           TimeWorked  count\n",
       "0           Academic/Teacher          20–29 hours      3\n",
       "1           Academic/Teacher          30–39 hours     28\n",
       "2           Academic/Teacher          40–49 hours     47\n",
       "3           Academic/Teacher          50–59 hours     19\n",
       "4           Academic/Teacher          60–69 hours      6\n",
       "..                       ...                  ...    ...\n",
       "76                   Teacher          20–29 hours      1\n",
       "77                   Teacher          30–39 hours      7\n",
       "78                   Teacher          40–49 hours      7\n",
       "79                   Teacher          50–59 hours      3\n",
       "80                   Teacher  Fewer than 20 hours      3\n",
       "\n",
       "[81 rows x 3 columns]"
      ]
     },
     "execution_count": 80,
     "metadata": {},
     "output_type": "execute_result"
    }
   ],
   "source": [
    "# Hours worked per week by role\n",
    "week_hours_worked = pd.DataFrame(df.groupby(['RoleMultichoice_composite', 'TimeWorked'])['TimeWorked'].count())\n",
    "week_hours_worked.columns = ['count']\n",
    "week_hours_worked = week_hours_worked.reset_index()\n",
    "week_hours_worked"
   ]
  },
  {
   "cell_type": "code",
   "execution_count": 81,
   "metadata": {
    "ExecuteTime": {
     "end_time": "2022-01-22T18:14:04.931948Z",
     "start_time": "2022-01-22T18:14:04.924186Z"
    }
   },
   "outputs": [],
   "source": [
    "# Adding a col with proportions within roles\n",
    "week_hours_worked = (\n",
    "    df_roles.set_index('role')\n",
    "    .join(week_hours_worked.set_index('RoleMultichoice_composite'), on='role')\n",
    "    .reset_index()\n",
    ")\n",
    "week_hours_worked['persons_perc'] = week_hours_worked['count']/week_hours_worked.persons_role"
   ]
  },
  {
   "cell_type": "code",
   "execution_count": 82,
   "metadata": {
    "ExecuteTime": {
     "end_time": "2022-01-22T18:14:11.299344Z",
     "start_time": "2022-01-22T18:14:11.259056Z"
    }
   },
   "outputs": [
    {
     "data": {
      "text/html": [
       "<div>\n",
       "<style scoped>\n",
       "    .dataframe tbody tr th:only-of-type {\n",
       "        vertical-align: middle;\n",
       "    }\n",
       "\n",
       "    .dataframe tbody tr th {\n",
       "        vertical-align: top;\n",
       "    }\n",
       "\n",
       "    .dataframe thead th {\n",
       "        text-align: right;\n",
       "    }\n",
       "</style>\n",
       "<table border=\"1\" class=\"dataframe\">\n",
       "  <thead>\n",
       "    <tr style=\"text-align: right;\">\n",
       "      <th></th>\n",
       "      <th>role</th>\n",
       "      <th>persons_role</th>\n",
       "      <th>TimeWorked</th>\n",
       "      <th>count</th>\n",
       "      <th>persons_perc</th>\n",
       "    </tr>\n",
       "  </thead>\n",
       "  <tbody>\n",
       "    <tr>\n",
       "      <th>0</th>\n",
       "      <td>Analyst</td>\n",
       "      <td>557</td>\n",
       "      <td>20–29 hours</td>\n",
       "      <td>28</td>\n",
       "      <td>0.050269</td>\n",
       "    </tr>\n",
       "    <tr>\n",
       "      <th>1</th>\n",
       "      <td>Analyst</td>\n",
       "      <td>557</td>\n",
       "      <td>30–39 hours</td>\n",
       "      <td>148</td>\n",
       "      <td>0.265709</td>\n",
       "    </tr>\n",
       "    <tr>\n",
       "      <th>2</th>\n",
       "      <td>Analyst</td>\n",
       "      <td>557</td>\n",
       "      <td>40–49 hours</td>\n",
       "      <td>312</td>\n",
       "      <td>0.560144</td>\n",
       "    </tr>\n",
       "    <tr>\n",
       "      <th>3</th>\n",
       "      <td>Analyst</td>\n",
       "      <td>557</td>\n",
       "      <td>50–59 hours</td>\n",
       "      <td>39</td>\n",
       "      <td>0.070018</td>\n",
       "    </tr>\n",
       "    <tr>\n",
       "      <th>4</th>\n",
       "      <td>Analyst</td>\n",
       "      <td>557</td>\n",
       "      <td>60–69 hours</td>\n",
       "      <td>9</td>\n",
       "      <td>0.016158</td>\n",
       "    </tr>\n",
       "  </tbody>\n",
       "</table>\n",
       "</div>"
      ],
      "text/plain": [
       "      role  persons_role   TimeWorked  count  persons_perc\n",
       "0  Analyst           557  20–29 hours     28      0.050269\n",
       "1  Analyst           557  30–39 hours    148      0.265709\n",
       "2  Analyst           557  40–49 hours    312      0.560144\n",
       "3  Analyst           557  50–59 hours     39      0.070018\n",
       "4  Analyst           557  60–69 hours      9      0.016158"
      ]
     },
     "execution_count": 82,
     "metadata": {},
     "output_type": "execute_result"
    }
   ],
   "source": [
    "week_hours_worked.head()"
   ]
  },
  {
   "cell_type": "code",
   "execution_count": 83,
   "metadata": {
    "ExecuteTime": {
     "end_time": "2022-01-22T18:14:40.704212Z",
     "start_time": "2022-01-22T18:14:40.681371Z"
    }
   },
   "outputs": [],
   "source": [
    "week_hours_worked.to_csv('../data/output/week_hours_worked.csv', index=False)"
   ]
  },
  {
   "cell_type": "code",
   "execution_count": 14,
   "metadata": {
    "ExecuteTime": {
     "end_time": "2022-01-22T18:03:22.757494Z",
     "start_time": "2022-01-22T18:03:22.751823Z"
    }
   },
   "outputs": [],
   "source": [
    "# Columns about time tasks\n",
    "time_var = ['TimeDataPrep', 'TimeDataAnalysis', 'TimeIdeating', 'TimeProducingViz', 'TimeOtherVizTasks']"
   ]
  },
  {
   "cell_type": "code",
   "execution_count": 15,
   "metadata": {
    "ExecuteTime": {
     "end_time": "2022-01-22T18:03:23.498152Z",
     "start_time": "2022-01-22T18:03:23.151615Z"
    }
   },
   "outputs": [],
   "source": [
    "# Count how many people spend a defined amount of time for every role and task (SMALL MULTIPLE PLOT)\n",
    "df_list = []\n",
    "for role in df.RoleMultichoice_composite.unique():\n",
    "    for task in time_var:\n",
    "        df_tmp = pd.DataFrame(df[df.RoleMultichoice_composite==role][task].value_counts(dropna=False)).reset_index()\n",
    "        df_tmp.columns = ['hours', 'persons']\n",
    "        df_tmp['task'] = task\n",
    "        df_tmp['role'] = role\n",
    "        df_list.append(df_tmp)\n",
    "df_all = pd.concat(df_list, ignore_index=True)"
   ]
  },
  {
   "cell_type": "code",
   "execution_count": 16,
   "metadata": {
    "ExecuteTime": {
     "end_time": "2022-01-22T18:03:24.359909Z",
     "start_time": "2022-01-22T18:03:24.348135Z"
    }
   },
   "outputs": [
    {
     "data": {
      "text/html": [
       "<div>\n",
       "<style scoped>\n",
       "    .dataframe tbody tr th:only-of-type {\n",
       "        vertical-align: middle;\n",
       "    }\n",
       "\n",
       "    .dataframe tbody tr th {\n",
       "        vertical-align: top;\n",
       "    }\n",
       "\n",
       "    .dataframe thead th {\n",
       "        text-align: right;\n",
       "    }\n",
       "</style>\n",
       "<table border=\"1\" class=\"dataframe\">\n",
       "  <thead>\n",
       "    <tr style=\"text-align: right;\">\n",
       "      <th></th>\n",
       "      <th>hours</th>\n",
       "      <th>persons</th>\n",
       "      <th>task</th>\n",
       "      <th>role</th>\n",
       "    </tr>\n",
       "  </thead>\n",
       "  <tbody>\n",
       "    <tr>\n",
       "      <th>0</th>\n",
       "      <td>5 hours or less</td>\n",
       "      <td>30</td>\n",
       "      <td>TimeDataPrep</td>\n",
       "      <td>Journalist</td>\n",
       "    </tr>\n",
       "    <tr>\n",
       "      <th>1</th>\n",
       "      <td>6–10 hours</td>\n",
       "      <td>16</td>\n",
       "      <td>TimeDataPrep</td>\n",
       "      <td>Journalist</td>\n",
       "    </tr>\n",
       "    <tr>\n",
       "      <th>2</th>\n",
       "      <td>11–20 hours</td>\n",
       "      <td>9</td>\n",
       "      <td>TimeDataPrep</td>\n",
       "      <td>Journalist</td>\n",
       "    </tr>\n",
       "    <tr>\n",
       "      <th>3</th>\n",
       "      <td>None</td>\n",
       "      <td>7</td>\n",
       "      <td>TimeDataPrep</td>\n",
       "      <td>Journalist</td>\n",
       "    </tr>\n",
       "    <tr>\n",
       "      <th>4</th>\n",
       "      <td>More than 30 hours</td>\n",
       "      <td>1</td>\n",
       "      <td>TimeDataPrep</td>\n",
       "      <td>Journalist</td>\n",
       "    </tr>\n",
       "  </tbody>\n",
       "</table>\n",
       "</div>"
      ],
      "text/plain": [
       "                hours  persons          task        role\n",
       "0     5 hours or less       30  TimeDataPrep  Journalist\n",
       "1          6–10 hours       16  TimeDataPrep  Journalist\n",
       "2         11–20 hours        9  TimeDataPrep  Journalist\n",
       "3                None        7  TimeDataPrep  Journalist\n",
       "4  More than 30 hours        1  TimeDataPrep  Journalist"
      ]
     },
     "execution_count": 16,
     "metadata": {},
     "output_type": "execute_result"
    }
   ],
   "source": [
    "df_all.head()"
   ]
  },
  {
   "cell_type": "code",
   "execution_count": 17,
   "metadata": {
    "ExecuteTime": {
     "end_time": "2022-01-22T18:03:25.463746Z",
     "start_time": "2022-01-22T18:03:25.454876Z"
    }
   },
   "outputs": [],
   "source": [
    "# dict to map hours' intervals to integer (order is important)\n",
    "mapping_hours = {\n",
    "    'None': 0,\n",
    "    '5 hours or less': 1,\n",
    "    '6–10 hours': 2,\n",
    "    '11–20 hours': 3,\n",
    "    '21–30 hours': 4,\n",
    "    'More than 30 hours': 5\n",
    "}\n",
    "df_all['id_hours'] = df_all['hours'].map(mapping_hours)"
   ]
  },
  {
   "cell_type": "code",
   "execution_count": 18,
   "metadata": {
    "ExecuteTime": {
     "end_time": "2022-01-22T18:03:26.290096Z",
     "start_time": "2022-01-22T18:03:26.280609Z"
    }
   },
   "outputs": [],
   "source": [
    "# task -> integer (order is important)\n",
    "mapping_task = {\n",
    "    'TimeOtherVizTasks': 0,\n",
    "    'TimeDataPrep': 1,\n",
    "    'TimeDataAnalysis': 2,\n",
    "    'TimeIdeating': 3,\n",
    "    'TimeProducingViz': 4\n",
    "}\n",
    "df_all['id_task'] = df_all['task'].map(mapping_task)"
   ]
  },
  {
   "cell_type": "code",
   "execution_count": 19,
   "metadata": {
    "ExecuteTime": {
     "end_time": "2022-01-22T18:03:26.826800Z",
     "start_time": "2022-01-22T18:03:26.822472Z"
    }
   },
   "outputs": [],
   "source": [
    "# role -> integer (order is not important)\n",
    "mapping_role = {\n",
    "    'Journalist': 8,\n",
    "    'Leadership (Manager, Director, VP, etc.)': 1,\n",
    "    'Analyst': 0,\n",
    "    'Developer': 3,\n",
    "    'Teacher': 9,\n",
    "    'Cartographer': 10,\n",
    "    'Engineer': 7,\n",
    "    'Student': 6,\n",
    "    'Academic/Teacher': 5,\n",
    "    'Designer': 2,\n",
    "    'Scientist': 4,\n",
    "    'None of these describes my role': 11,\n",
    "}\n",
    "df_all['id_role'] = df_all['role'].map(mapping_role)"
   ]
  },
  {
   "cell_type": "code",
   "execution_count": 20,
   "metadata": {
    "ExecuteTime": {
     "end_time": "2022-01-22T18:03:27.402235Z",
     "start_time": "2022-01-22T18:03:27.390189Z"
    }
   },
   "outputs": [
    {
     "data": {
      "text/html": [
       "<div>\n",
       "<style scoped>\n",
       "    .dataframe tbody tr th:only-of-type {\n",
       "        vertical-align: middle;\n",
       "    }\n",
       "\n",
       "    .dataframe tbody tr th {\n",
       "        vertical-align: top;\n",
       "    }\n",
       "\n",
       "    .dataframe thead th {\n",
       "        text-align: right;\n",
       "    }\n",
       "</style>\n",
       "<table border=\"1\" class=\"dataframe\">\n",
       "  <thead>\n",
       "    <tr style=\"text-align: right;\">\n",
       "      <th></th>\n",
       "      <th>hours</th>\n",
       "      <th>persons</th>\n",
       "      <th>task</th>\n",
       "      <th>role</th>\n",
       "      <th>id_hours</th>\n",
       "      <th>id_task</th>\n",
       "      <th>id_role</th>\n",
       "    </tr>\n",
       "  </thead>\n",
       "  <tbody>\n",
       "    <tr>\n",
       "      <th>0</th>\n",
       "      <td>5 hours or less</td>\n",
       "      <td>30</td>\n",
       "      <td>TimeDataPrep</td>\n",
       "      <td>Journalist</td>\n",
       "      <td>1</td>\n",
       "      <td>1</td>\n",
       "      <td>8</td>\n",
       "    </tr>\n",
       "    <tr>\n",
       "      <th>1</th>\n",
       "      <td>6–10 hours</td>\n",
       "      <td>16</td>\n",
       "      <td>TimeDataPrep</td>\n",
       "      <td>Journalist</td>\n",
       "      <td>2</td>\n",
       "      <td>1</td>\n",
       "      <td>8</td>\n",
       "    </tr>\n",
       "    <tr>\n",
       "      <th>2</th>\n",
       "      <td>11–20 hours</td>\n",
       "      <td>9</td>\n",
       "      <td>TimeDataPrep</td>\n",
       "      <td>Journalist</td>\n",
       "      <td>3</td>\n",
       "      <td>1</td>\n",
       "      <td>8</td>\n",
       "    </tr>\n",
       "    <tr>\n",
       "      <th>3</th>\n",
       "      <td>None</td>\n",
       "      <td>7</td>\n",
       "      <td>TimeDataPrep</td>\n",
       "      <td>Journalist</td>\n",
       "      <td>0</td>\n",
       "      <td>1</td>\n",
       "      <td>8</td>\n",
       "    </tr>\n",
       "    <tr>\n",
       "      <th>4</th>\n",
       "      <td>More than 30 hours</td>\n",
       "      <td>1</td>\n",
       "      <td>TimeDataPrep</td>\n",
       "      <td>Journalist</td>\n",
       "      <td>5</td>\n",
       "      <td>1</td>\n",
       "      <td>8</td>\n",
       "    </tr>\n",
       "  </tbody>\n",
       "</table>\n",
       "</div>"
      ],
      "text/plain": [
       "                hours  persons          task        role  id_hours  id_task  \\\n",
       "0     5 hours or less       30  TimeDataPrep  Journalist         1        1   \n",
       "1          6–10 hours       16  TimeDataPrep  Journalist         2        1   \n",
       "2         11–20 hours        9  TimeDataPrep  Journalist         3        1   \n",
       "3                None        7  TimeDataPrep  Journalist         0        1   \n",
       "4  More than 30 hours        1  TimeDataPrep  Journalist         5        1   \n",
       "\n",
       "   id_role  \n",
       "0        8  \n",
       "1        8  \n",
       "2        8  \n",
       "3        8  \n",
       "4        8  "
      ]
     },
     "execution_count": 20,
     "metadata": {},
     "output_type": "execute_result"
    }
   ],
   "source": [
    "df_all.head()"
   ]
  },
  {
   "cell_type": "code",
   "execution_count": 21,
   "metadata": {
    "ExecuteTime": {
     "end_time": "2022-01-22T18:03:27.990484Z",
     "start_time": "2022-01-22T18:03:27.981169Z"
    }
   },
   "outputs": [],
   "source": [
    "# Adding a col with proportions within roles\n",
    "df_all = df_roles.set_index('role').join(df_all.set_index('role'), on='role').reset_index()\n",
    "df_all['persons_perc'] = df_all.persons/df_all.persons_role"
   ]
  },
  {
   "cell_type": "code",
   "execution_count": 22,
   "metadata": {
    "ExecuteTime": {
     "end_time": "2022-01-22T18:03:28.801057Z",
     "start_time": "2022-01-22T18:03:28.782701Z"
    }
   },
   "outputs": [
    {
     "data": {
      "text/html": [
       "<div>\n",
       "<style scoped>\n",
       "    .dataframe tbody tr th:only-of-type {\n",
       "        vertical-align: middle;\n",
       "    }\n",
       "\n",
       "    .dataframe tbody tr th {\n",
       "        vertical-align: top;\n",
       "    }\n",
       "\n",
       "    .dataframe thead th {\n",
       "        text-align: right;\n",
       "    }\n",
       "</style>\n",
       "<table border=\"1\" class=\"dataframe\">\n",
       "  <thead>\n",
       "    <tr style=\"text-align: right;\">\n",
       "      <th></th>\n",
       "      <th>role</th>\n",
       "      <th>persons_role</th>\n",
       "      <th>hours</th>\n",
       "      <th>persons</th>\n",
       "      <th>task</th>\n",
       "      <th>id_hours</th>\n",
       "      <th>id_task</th>\n",
       "      <th>id_role</th>\n",
       "      <th>persons_perc</th>\n",
       "    </tr>\n",
       "  </thead>\n",
       "  <tbody>\n",
       "    <tr>\n",
       "      <th>0</th>\n",
       "      <td>Analyst</td>\n",
       "      <td>557</td>\n",
       "      <td>5 hours or less</td>\n",
       "      <td>223</td>\n",
       "      <td>TimeDataPrep</td>\n",
       "      <td>1</td>\n",
       "      <td>1</td>\n",
       "      <td>0</td>\n",
       "      <td>0.400359</td>\n",
       "    </tr>\n",
       "    <tr>\n",
       "      <th>1</th>\n",
       "      <td>Analyst</td>\n",
       "      <td>557</td>\n",
       "      <td>6–10 hours</td>\n",
       "      <td>161</td>\n",
       "      <td>TimeDataPrep</td>\n",
       "      <td>2</td>\n",
       "      <td>1</td>\n",
       "      <td>0</td>\n",
       "      <td>0.289048</td>\n",
       "    </tr>\n",
       "    <tr>\n",
       "      <th>2</th>\n",
       "      <td>Analyst</td>\n",
       "      <td>557</td>\n",
       "      <td>11–20 hours</td>\n",
       "      <td>107</td>\n",
       "      <td>TimeDataPrep</td>\n",
       "      <td>3</td>\n",
       "      <td>1</td>\n",
       "      <td>0</td>\n",
       "      <td>0.192101</td>\n",
       "    </tr>\n",
       "    <tr>\n",
       "      <th>3</th>\n",
       "      <td>Analyst</td>\n",
       "      <td>557</td>\n",
       "      <td>None</td>\n",
       "      <td>34</td>\n",
       "      <td>TimeDataPrep</td>\n",
       "      <td>0</td>\n",
       "      <td>1</td>\n",
       "      <td>0</td>\n",
       "      <td>0.061041</td>\n",
       "    </tr>\n",
       "    <tr>\n",
       "      <th>4</th>\n",
       "      <td>Analyst</td>\n",
       "      <td>557</td>\n",
       "      <td>21–30 hours</td>\n",
       "      <td>31</td>\n",
       "      <td>TimeDataPrep</td>\n",
       "      <td>4</td>\n",
       "      <td>1</td>\n",
       "      <td>0</td>\n",
       "      <td>0.055655</td>\n",
       "    </tr>\n",
       "  </tbody>\n",
       "</table>\n",
       "</div>"
      ],
      "text/plain": [
       "      role  persons_role            hours  persons          task  id_hours  \\\n",
       "0  Analyst           557  5 hours or less      223  TimeDataPrep         1   \n",
       "1  Analyst           557       6–10 hours      161  TimeDataPrep         2   \n",
       "2  Analyst           557      11–20 hours      107  TimeDataPrep         3   \n",
       "3  Analyst           557             None       34  TimeDataPrep         0   \n",
       "4  Analyst           557      21–30 hours       31  TimeDataPrep         4   \n",
       "\n",
       "   id_task  id_role  persons_perc  \n",
       "0        1        0      0.400359  \n",
       "1        1        0      0.289048  \n",
       "2        1        0      0.192101  \n",
       "3        1        0      0.061041  \n",
       "4        1        0      0.055655  "
      ]
     },
     "execution_count": 22,
     "metadata": {},
     "output_type": "execute_result"
    }
   ],
   "source": [
    "df_all.head()"
   ]
  },
  {
   "cell_type": "code",
   "execution_count": 23,
   "metadata": {
    "ExecuteTime": {
     "end_time": "2022-01-22T18:03:51.968186Z",
     "start_time": "2022-01-22T18:03:51.952520Z"
    }
   },
   "outputs": [],
   "source": [
    "df_all.to_csv('../data/output/time_spent_task.csv', index=False)"
   ]
  },
  {
   "cell_type": "markdown",
   "metadata": {},
   "source": [
    "## Avg. time spent overall - comparison between job titles"
   ]
  },
  {
   "cell_type": "code",
   "execution_count": 24,
   "metadata": {
    "ExecuteTime": {
     "end_time": "2022-01-22T18:03:55.407981Z",
     "start_time": "2022-01-22T18:03:55.340192Z"
    }
   },
   "outputs": [],
   "source": [
    "# How many hours on average each role spend on each task?\n",
    "# assuming equally spaced weights for the different hours' ranges\n",
    "w_avg = []\n",
    "for role in df_all.role.unique():\n",
    "    for task in df_all.task.unique():\n",
    "        df_tmp = df_all[(df_all.role==role) & (df_all.task==task)]\n",
    "        weighted_av = np.dot(df_tmp.persons_perc, df_tmp.id_hours)\n",
    "        w_avg.append((task, role, weighted_av/15)) # 15 = sum of weights (0+1+2+3+4+5)"
   ]
  },
  {
   "cell_type": "code",
   "execution_count": 25,
   "metadata": {
    "ExecuteTime": {
     "end_time": "2022-01-22T18:03:56.057358Z",
     "start_time": "2022-01-22T18:03:56.049218Z"
    }
   },
   "outputs": [],
   "source": [
    "df_w_avg = pd.DataFrame(w_avg)\n",
    "df_w_avg.columns = ['task', 'role', 'w_avg']"
   ]
  },
  {
   "cell_type": "code",
   "execution_count": 26,
   "metadata": {
    "ExecuteTime": {
     "end_time": "2022-01-22T18:03:56.874968Z",
     "start_time": "2022-01-22T18:03:56.852218Z"
    }
   },
   "outputs": [
    {
     "data": {
      "text/html": [
       "<div>\n",
       "<style scoped>\n",
       "    .dataframe tbody tr th:only-of-type {\n",
       "        vertical-align: middle;\n",
       "    }\n",
       "\n",
       "    .dataframe tbody tr th {\n",
       "        vertical-align: top;\n",
       "    }\n",
       "\n",
       "    .dataframe thead th {\n",
       "        text-align: right;\n",
       "    }\n",
       "</style>\n",
       "<table border=\"1\" class=\"dataframe\">\n",
       "  <thead>\n",
       "    <tr style=\"text-align: right;\">\n",
       "      <th></th>\n",
       "      <th>task</th>\n",
       "      <th>role</th>\n",
       "      <th>w_avg</th>\n",
       "    </tr>\n",
       "  </thead>\n",
       "  <tbody>\n",
       "    <tr>\n",
       "      <th>34</th>\n",
       "      <td>TimeOtherVizTasks</td>\n",
       "      <td>Academic/Teacher</td>\n",
       "      <td>0.058480</td>\n",
       "    </tr>\n",
       "    <tr>\n",
       "      <th>32</th>\n",
       "      <td>TimeIdeating</td>\n",
       "      <td>Academic/Teacher</td>\n",
       "      <td>0.067251</td>\n",
       "    </tr>\n",
       "    <tr>\n",
       "      <th>30</th>\n",
       "      <td>TimeDataPrep</td>\n",
       "      <td>Academic/Teacher</td>\n",
       "      <td>0.090643</td>\n",
       "    </tr>\n",
       "    <tr>\n",
       "      <th>33</th>\n",
       "      <td>TimeProducingViz</td>\n",
       "      <td>Academic/Teacher</td>\n",
       "      <td>0.092398</td>\n",
       "    </tr>\n",
       "    <tr>\n",
       "      <th>31</th>\n",
       "      <td>TimeDataAnalysis</td>\n",
       "      <td>Academic/Teacher</td>\n",
       "      <td>0.108772</td>\n",
       "    </tr>\n",
       "  </tbody>\n",
       "</table>\n",
       "</div>"
      ],
      "text/plain": [
       "                 task              role     w_avg\n",
       "34  TimeOtherVizTasks  Academic/Teacher  0.058480\n",
       "32       TimeIdeating  Academic/Teacher  0.067251\n",
       "30       TimeDataPrep  Academic/Teacher  0.090643\n",
       "33   TimeProducingViz  Academic/Teacher  0.092398\n",
       "31   TimeDataAnalysis  Academic/Teacher  0.108772"
      ]
     },
     "execution_count": 26,
     "metadata": {},
     "output_type": "execute_result"
    }
   ],
   "source": [
    "df_w_avg.sort_values(by=['role', 'w_avg']).head()"
   ]
  },
  {
   "cell_type": "raw",
   "metadata": {
    "ExecuteTime": {
     "end_time": "2022-01-07T14:58:09.014406Z",
     "start_time": "2022-01-07T14:58:09.008729Z"
    }
   },
   "source": [
    "df_w_avg['w_avg_norm'] = (1 + df_w_avg.w_avg / df_w_avg.w_avg.max() * 3)"
   ]
  },
  {
   "cell_type": "code",
   "execution_count": 28,
   "metadata": {
    "ExecuteTime": {
     "end_time": "2022-01-22T18:04:09.534272Z",
     "start_time": "2022-01-22T18:04:09.526505Z"
    }
   },
   "outputs": [],
   "source": [
    "df_w_avg['task_id'] = df_w_avg['task'].map(mapping_task)\n",
    "df_w_avg.to_csv('../data/output/weighted_avg.csv', index=False)"
   ]
  },
  {
   "cell_type": "markdown",
   "metadata": {},
   "source": [
    "# Text analysis: understanding the *other tasks*"
   ]
  },
  {
   "cell_type": "code",
   "execution_count": 84,
   "metadata": {
    "ExecuteTime": {
     "end_time": "2022-01-22T18:18:22.681164Z",
     "start_time": "2022-01-22T18:18:22.662870Z"
    }
   },
   "outputs": [
    {
     "data": {
      "text/plain": [
       "(1453, 10)"
      ]
     },
     "execution_count": 84,
     "metadata": {},
     "output_type": "execute_result"
    }
   ],
   "source": [
    "df[df.OtherVizTasks__=='None'].shape # 1450 erano nan"
   ]
  },
  {
   "cell_type": "code",
   "execution_count": 85,
   "metadata": {
    "ExecuteTime": {
     "end_time": "2022-01-22T18:18:23.756105Z",
     "start_time": "2022-01-22T18:18:23.747332Z"
    }
   },
   "outputs": [
    {
     "data": {
      "text/plain": [
       "(2165, 712, 0.3288683602771363)"
      ]
     },
     "execution_count": 85,
     "metadata": {},
     "output_type": "execute_result"
    }
   ],
   "source": [
    "n=df.shape[0]\n",
    "n, n-1453, (n-1453)/n"
   ]
  },
  {
   "cell_type": "code",
   "execution_count": 86,
   "metadata": {
    "ExecuteTime": {
     "end_time": "2022-01-22T18:18:25.130463Z",
     "start_time": "2022-01-22T18:18:25.112201Z"
    }
   },
   "outputs": [
    {
     "data": {
      "text/html": [
       "<div>\n",
       "<style scoped>\n",
       "    .dataframe tbody tr th:only-of-type {\n",
       "        vertical-align: middle;\n",
       "    }\n",
       "\n",
       "    .dataframe tbody tr th {\n",
       "        vertical-align: top;\n",
       "    }\n",
       "\n",
       "    .dataframe thead th {\n",
       "        text-align: right;\n",
       "    }\n",
       "</style>\n",
       "<table border=\"1\" class=\"dataframe\">\n",
       "  <thead>\n",
       "    <tr style=\"text-align: right;\">\n",
       "      <th></th>\n",
       "      <th>persons_role</th>\n",
       "      <th>persons_role_other</th>\n",
       "      <th>persons_prop_other</th>\n",
       "    </tr>\n",
       "    <tr>\n",
       "      <th>role</th>\n",
       "      <th></th>\n",
       "      <th></th>\n",
       "      <th></th>\n",
       "    </tr>\n",
       "  </thead>\n",
       "  <tbody>\n",
       "    <tr>\n",
       "      <th>Student</th>\n",
       "      <td>102</td>\n",
       "      <td>24</td>\n",
       "      <td>0.235294</td>\n",
       "    </tr>\n",
       "    <tr>\n",
       "      <th>Analyst</th>\n",
       "      <td>557</td>\n",
       "      <td>138</td>\n",
       "      <td>0.247756</td>\n",
       "    </tr>\n",
       "    <tr>\n",
       "      <th>None of these describes my role</th>\n",
       "      <td>370</td>\n",
       "      <td>99</td>\n",
       "      <td>0.267568</td>\n",
       "    </tr>\n",
       "    <tr>\n",
       "      <th>Cartographer</th>\n",
       "      <td>11</td>\n",
       "      <td>3</td>\n",
       "      <td>0.272727</td>\n",
       "    </tr>\n",
       "    <tr>\n",
       "      <th>Scientist</th>\n",
       "      <td>122</td>\n",
       "      <td>35</td>\n",
       "      <td>0.286885</td>\n",
       "    </tr>\n",
       "    <tr>\n",
       "      <th>Academic/Teacher</th>\n",
       "      <td>114</td>\n",
       "      <td>36</td>\n",
       "      <td>0.315789</td>\n",
       "    </tr>\n",
       "    <tr>\n",
       "      <th>Journalist</th>\n",
       "      <td>64</td>\n",
       "      <td>22</td>\n",
       "      <td>0.343750</td>\n",
       "    </tr>\n",
       "    <tr>\n",
       "      <th>Developer</th>\n",
       "      <td>180</td>\n",
       "      <td>68</td>\n",
       "      <td>0.377778</td>\n",
       "    </tr>\n",
       "    <tr>\n",
       "      <th>Leadership (Manager, Director, VP, etc.)</th>\n",
       "      <td>297</td>\n",
       "      <td>125</td>\n",
       "      <td>0.420875</td>\n",
       "    </tr>\n",
       "    <tr>\n",
       "      <th>Designer</th>\n",
       "      <td>229</td>\n",
       "      <td>102</td>\n",
       "      <td>0.445415</td>\n",
       "    </tr>\n",
       "    <tr>\n",
       "      <th>Engineer</th>\n",
       "      <td>98</td>\n",
       "      <td>46</td>\n",
       "      <td>0.469388</td>\n",
       "    </tr>\n",
       "    <tr>\n",
       "      <th>Teacher</th>\n",
       "      <td>21</td>\n",
       "      <td>14</td>\n",
       "      <td>0.666667</td>\n",
       "    </tr>\n",
       "  </tbody>\n",
       "</table>\n",
       "</div>"
      ],
      "text/plain": [
       "                                          persons_role  persons_role_other  \\\n",
       "role                                                                         \n",
       "Student                                            102                  24   \n",
       "Analyst                                            557                 138   \n",
       "None of these describes my role                    370                  99   \n",
       "Cartographer                                        11                   3   \n",
       "Scientist                                          122                  35   \n",
       "Academic/Teacher                                   114                  36   \n",
       "Journalist                                          64                  22   \n",
       "Developer                                          180                  68   \n",
       "Leadership (Manager, Director, VP, etc.)           297                 125   \n",
       "Designer                                           229                 102   \n",
       "Engineer                                            98                  46   \n",
       "Teacher                                             21                  14   \n",
       "\n",
       "                                          persons_prop_other  \n",
       "role                                                          \n",
       "Student                                             0.235294  \n",
       "Analyst                                             0.247756  \n",
       "None of these describes my role                     0.267568  \n",
       "Cartographer                                        0.272727  \n",
       "Scientist                                           0.286885  \n",
       "Academic/Teacher                                    0.315789  \n",
       "Journalist                                          0.343750  \n",
       "Developer                                           0.377778  \n",
       "Leadership (Manager, Director, VP, etc.)            0.420875  \n",
       "Designer                                            0.445415  \n",
       "Engineer                                            0.469388  \n",
       "Teacher                                             0.666667  "
      ]
     },
     "execution_count": 86,
     "metadata": {},
     "output_type": "execute_result"
    }
   ],
   "source": [
    "# Proportion of people talking about other tasks\n",
    "df_roles_other_task = df[df.OtherVizTasks__!='None'].RoleMultichoice_composite.value_counts().reset_index()\n",
    "df_roles_other_task.columns = ['role', 'persons_role_other']\n",
    "df_roles_other_task = df_roles.set_index('role').join(df_roles_other_task.set_index('role'))\n",
    "df_roles_other_task['persons_prop_other'] = df_roles_other_task.persons_role_other/df_roles_other_task.persons_role\n",
    "df_roles_other_task.sort_values('persons_prop_other')"
   ]
  },
  {
   "cell_type": "code",
   "execution_count": 87,
   "metadata": {
    "ExecuteTime": {
     "end_time": "2022-01-22T18:18:25.906934Z",
     "start_time": "2022-01-22T18:18:25.895723Z"
    }
   },
   "outputs": [
    {
     "data": {
      "text/html": [
       "<div>\n",
       "<style scoped>\n",
       "    .dataframe tbody tr th:only-of-type {\n",
       "        vertical-align: middle;\n",
       "    }\n",
       "\n",
       "    .dataframe tbody tr th {\n",
       "        vertical-align: top;\n",
       "    }\n",
       "\n",
       "    .dataframe thead th {\n",
       "        text-align: right;\n",
       "    }\n",
       "</style>\n",
       "<table border=\"1\" class=\"dataframe\">\n",
       "  <thead>\n",
       "    <tr style=\"text-align: right;\">\n",
       "      <th></th>\n",
       "      <th>OtherVizTasks__</th>\n",
       "    </tr>\n",
       "  </thead>\n",
       "  <tbody>\n",
       "    <tr>\n",
       "      <th>0</th>\n",
       "      <td>Writing, reporting and editing other people's ...</td>\n",
       "    </tr>\n",
       "    <tr>\n",
       "      <th>1</th>\n",
       "      <td>Writing, blogging, social about the topic</td>\n",
       "    </tr>\n",
       "    <tr>\n",
       "      <th>2</th>\n",
       "      <td>Writing takeaways associated with the visualiz...</td>\n",
       "    </tr>\n",
       "    <tr>\n",
       "      <th>3</th>\n",
       "      <td>Writing software to support making visualizations</td>\n",
       "    </tr>\n",
       "    <tr>\n",
       "      <th>4</th>\n",
       "      <td>Writing scripts to ingest new data</td>\n",
       "    </tr>\n",
       "    <tr>\n",
       "      <th>...</th>\n",
       "      <td>...</td>\n",
       "    </tr>\n",
       "    <tr>\n",
       "      <th>713</th>\n",
       "      <td>xys</td>\n",
       "    </tr>\n",
       "    <tr>\n",
       "      <th>714</th>\n",
       "      <td>30</td>\n",
       "    </tr>\n",
       "    <tr>\n",
       "      <th>715</th>\n",
       "      <td>5</td>\n",
       "    </tr>\n",
       "    <tr>\n",
       "      <th>716</th>\n",
       "      <td>3</td>\n",
       "    </tr>\n",
       "    <tr>\n",
       "      <th>717</th>\n",
       "      <td>2</td>\n",
       "    </tr>\n",
       "  </tbody>\n",
       "</table>\n",
       "<p>712 rows × 1 columns</p>\n",
       "</div>"
      ],
      "text/plain": [
       "                                       OtherVizTasks__\n",
       "0    Writing, reporting and editing other people's ...\n",
       "1            Writing, blogging, social about the topic\n",
       "2    Writing takeaways associated with the visualiz...\n",
       "3    Writing software to support making visualizations\n",
       "4                   Writing scripts to ingest new data\n",
       "..                                                 ...\n",
       "713                                                xys\n",
       "714                                                 30\n",
       "715                                                  5\n",
       "716                                                  3\n",
       "717                                                  2\n",
       "\n",
       "[712 rows x 1 columns]"
      ]
     },
     "execution_count": 87,
     "metadata": {},
     "output_type": "execute_result"
    }
   ],
   "source": [
    "# Analysis of the field\n",
    "other_tasks = pd.DataFrame(df[df.OtherVizTasks__!='None'].OtherVizTasks__)\n",
    "other_tasks"
   ]
  },
  {
   "cell_type": "code",
   "execution_count": 33,
   "metadata": {
    "ExecuteTime": {
     "end_time": "2022-01-22T18:04:56.104227Z",
     "start_time": "2022-01-22T18:04:56.093533Z"
    }
   },
   "outputs": [],
   "source": [
    "# Cleaning steps are performed as for the order below:\n",
    "# 1. lowercasing\n",
    "# 2. punctuation removal\n",
    "# 3. remove multiple spaces\n",
    "# 4. remove spaces at the beginning and at the end of each text\n",
    "# 5. Tokenization\n",
    "# 6. Stop words removal\n",
    "# 7. Lemmatization (both on verbs and nouns)\n",
    "def cleaning_text(text):\n",
    "    text = text.lower()\n",
    "    for el in string.punctuation:\n",
    "        text = re.sub(f'\\\\{el}', ' ', text)\n",
    "    text = re.sub(r'\\s+', ' ', text)\n",
    "    text = text.strip()\n",
    "    text_tokens = word_tokenize(text)\n",
    "    text_tokens_stop_words = [i for i in text_tokens if not i in stop_words]\n",
    "    text_tokens_lemm = [wordnet_lemmatizer.lemmatize(word, pos='v') for word in text_tokens_stop_words]\n",
    "    text_tokens_lemm = [wordnet_lemmatizer.lemmatize(word, pos='n') for word in text_tokens_lemm]\n",
    "    return text_tokens_lemm"
   ]
  },
  {
   "cell_type": "code",
   "execution_count": 34,
   "metadata": {
    "ExecuteTime": {
     "end_time": "2022-01-22T18:04:58.129512Z",
     "start_time": "2022-01-22T18:04:58.117155Z"
    }
   },
   "outputs": [],
   "source": [
    "# Function to join tokens and create bigrams\n",
    "def join_from_onegrams(onegram_text, true_bigr_set, sep='_'):\n",
    "    res = []\n",
    "    skip = False\n",
    "    for prev, curr in zip(onegram_text[:-1], onegram_text[1:]):\n",
    "        if skip:\n",
    "            skip = False\n",
    "            continue\n",
    "        if f'{prev}_{curr}' in true_bigr_set:\n",
    "            res.append(f'{prev}{sep}{curr}')\n",
    "            skip = True\n",
    "        else:\n",
    "            res.append(prev)\n",
    "    if onegram_text[1:] and not skip:\n",
    "        res.append(onegram_text[-1])\n",
    "    if onegram_text and not onegram_text[1:]:\n",
    "        res = onegram_text\n",
    "    return res"
   ]
  },
  {
   "cell_type": "code",
   "execution_count": 35,
   "metadata": {
    "ExecuteTime": {
     "end_time": "2022-01-22T18:04:59.301709Z",
     "start_time": "2022-01-22T18:04:59.291196Z"
    }
   },
   "outputs": [],
   "source": [
    "bigrams = ['data_collection', 'ux_design', 'web_design', 'data_model', 'data_source']"
   ]
  },
  {
   "cell_type": "code",
   "execution_count": 36,
   "metadata": {
    "ExecuteTime": {
     "end_time": "2022-01-22T18:05:02.414513Z",
     "start_time": "2022-01-22T18:05:00.291688Z"
    }
   },
   "outputs": [],
   "source": [
    "df['text_cleaned'] = df.OtherVizTasks__.apply(lambda x: cleaning_text(str(x)))\n",
    "df['text_cleaned'] = (\n",
    "    df.text_cleaned.apply(lambda x: join_from_onegrams(x,  true_bigr_set=bigrams))\n",
    ")\n",
    "df['text_cleaned_txt'] = df.text_cleaned.apply(lambda x: ' '.join(x))\n",
    "df['text_cleaned_txt'] = df.text_cleaned_txt.apply(lambda x: '' if x=='none' else x)\n",
    "df['text_cleaned'] = df.text_cleaned_txt.apply(lambda x: x.split(' ') if x!='' else [])"
   ]
  },
  {
   "cell_type": "raw",
   "metadata": {
    "ExecuteTime": {
     "end_time": "2022-01-09T09:05:19.695180Z",
     "start_time": "2022-01-09T09:05:19.682694Z"
    }
   },
   "source": [
    "pd.Series([el for el in df.text_cleaned if el is not np.nan for el in el]).value_counts().reset_index().iloc[60:80]"
   ]
  },
  {
   "cell_type": "code",
   "execution_count": 37,
   "metadata": {
    "ExecuteTime": {
     "end_time": "2022-01-22T18:05:04.304820Z",
     "start_time": "2022-01-22T18:05:04.297702Z"
    }
   },
   "outputs": [],
   "source": [
    "# create some clusters of related words / topics\n",
    "topics = {\n",
    "    'client': ['stakeholder', 'client', 'customer'],\n",
    "    'coding': ['code', 'script', 'software', 'tool', 'library', 'development'],\n",
    "    'blogging': ['blog', 'blogging', 'social'],\n",
    "    'presentation': ['slide', 'present', 'ppt', 'ppts', 'presentation', 'communicate', 'communication'],\n",
    "    'feedback': ['feedback', 'review'],\n",
    "    'teaching': ['teach', 'train', 'workshop', 'instruction', 'instruction', 'course',\n",
    "                 'instructional', 'lecture', 'class', 'education', 'educational', 'coach'],\n",
    "    'research': ['research', 'learn', 'study'],\n",
    "    'documenting': ['document', 'documentation', 'report'],\n",
    "    'dashboard': ['dashboard'],\n",
    "    'style_guide': ['style'],\n",
    "    'meeting': ['meet'],\n",
    "    'management': ['management', 'manage', 'plan', 'strategy', 'strategic'],\n",
    "    'web_design': ['ux_design', 'web_design'],\n",
    "    'data_collection': ['data_collection', 'collect', 'etl', 'data_model', 'requirement', 'data_source'],\n",
    "    'accessibility': ['accessibility']\n",
    "}"
   ]
  },
  {
   "cell_type": "code",
   "execution_count": 38,
   "metadata": {
    "ExecuteTime": {
     "end_time": "2022-01-22T18:05:06.134924Z",
     "start_time": "2022-01-22T18:05:06.114847Z"
    }
   },
   "outputs": [
    {
     "data": {
      "text/plain": [
       "['coding', 'style_guide']"
      ]
     },
     "execution_count": 38,
     "metadata": {},
     "output_type": "execute_result"
    }
   ],
   "source": [
    "def get_tag(txt):\n",
    "    return [key for key, val in topics.items() if len((set(txt) & set(val)))>0]\n",
    "\n",
    "# Esempio\n",
    "test_txt = ['code', 'style', 'social_media', 'project_management']\n",
    "#test_txt = []\n",
    "get_tag(test_txt)"
   ]
  },
  {
   "cell_type": "code",
   "execution_count": 39,
   "metadata": {
    "ExecuteTime": {
     "end_time": "2022-01-22T18:05:08.969930Z",
     "start_time": "2022-01-22T18:05:08.932336Z"
    }
   },
   "outputs": [],
   "source": [
    "df['tag'] = df.text_cleaned.apply(lambda x: get_tag(x))"
   ]
  },
  {
   "cell_type": "code",
   "execution_count": 40,
   "metadata": {
    "ExecuteTime": {
     "end_time": "2022-01-22T18:05:10.382594Z",
     "start_time": "2022-01-22T18:05:10.370529Z"
    }
   },
   "outputs": [
    {
     "data": {
      "text/plain": [
       "data             70\n",
       "visualization    33\n",
       "design           13\n",
       "viz              12\n",
       "write            11\n",
       "others           10\n",
       "create            9\n",
       "visualisation     8\n",
       "user              8\n",
       "work              7\n",
       "use               7\n",
       "team              6\n",
       "task              6\n",
       "analysis          6\n",
       "make              5\n",
       "etc               5\n",
       "look              5\n",
       "find              5\n",
       "support           5\n",
       "best              5\n",
       "dtype: int64"
      ]
     },
     "execution_count": 40,
     "metadata": {},
     "output_type": "execute_result"
    }
   ],
   "source": [
    "# Check residuals\n",
    "residuals = df[(df.tag.apply(lambda x: len(x)==0)) & (df.text_cleaned.apply(lambda x: len(x)>0))]\n",
    "pd.Series([el for el in residuals.text_cleaned for el in el]).value_counts().head(20)\n",
    "# residuals[residuals.text_cleaned_txt.str.contains('plan')]"
   ]
  },
  {
   "cell_type": "code",
   "execution_count": 41,
   "metadata": {
    "ExecuteTime": {
     "end_time": "2022-01-22T18:05:12.342879Z",
     "start_time": "2022-01-22T18:05:12.334077Z"
    }
   },
   "outputs": [
    {
     "data": {
      "text/plain": [
       "(239, 13)"
      ]
     },
     "execution_count": 41,
     "metadata": {},
     "output_type": "execute_result"
    }
   ],
   "source": [
    "residuals.shape"
   ]
  },
  {
   "cell_type": "code",
   "execution_count": 42,
   "metadata": {
    "ExecuteTime": {
     "end_time": "2022-01-22T18:05:19.720317Z",
     "start_time": "2022-01-22T18:05:19.680321Z"
    }
   },
   "outputs": [
    {
     "data": {
      "text/html": [
       "<div>\n",
       "<style scoped>\n",
       "    .dataframe tbody tr th:only-of-type {\n",
       "        vertical-align: middle;\n",
       "    }\n",
       "\n",
       "    .dataframe tbody tr th {\n",
       "        vertical-align: top;\n",
       "    }\n",
       "\n",
       "    .dataframe thead th {\n",
       "        text-align: right;\n",
       "    }\n",
       "</style>\n",
       "<table border=\"1\" class=\"dataframe\">\n",
       "  <thead>\n",
       "    <tr style=\"text-align: right;\">\n",
       "      <th></th>\n",
       "      <th>tag</th>\n",
       "      <th>tag_total_n</th>\n",
       "    </tr>\n",
       "  </thead>\n",
       "  <tbody>\n",
       "    <tr>\n",
       "      <th>12</th>\n",
       "      <td>web_design</td>\n",
       "      <td>5</td>\n",
       "    </tr>\n",
       "    <tr>\n",
       "      <th>14</th>\n",
       "      <td>accessibility</td>\n",
       "      <td>5</td>\n",
       "    </tr>\n",
       "    <tr>\n",
       "      <th>2</th>\n",
       "      <td>blogging</td>\n",
       "      <td>9</td>\n",
       "    </tr>\n",
       "    <tr>\n",
       "      <th>9</th>\n",
       "      <td>style_guide</td>\n",
       "      <td>9</td>\n",
       "    </tr>\n",
       "    <tr>\n",
       "      <th>8</th>\n",
       "      <td>dashboard</td>\n",
       "      <td>17</td>\n",
       "    </tr>\n",
       "    <tr>\n",
       "      <th>7</th>\n",
       "      <td>documenting</td>\n",
       "      <td>36</td>\n",
       "    </tr>\n",
       "    <tr>\n",
       "      <th>4</th>\n",
       "      <td>feedback</td>\n",
       "      <td>41</td>\n",
       "    </tr>\n",
       "    <tr>\n",
       "      <th>13</th>\n",
       "      <td>data_collection</td>\n",
       "      <td>43</td>\n",
       "    </tr>\n",
       "    <tr>\n",
       "      <th>10</th>\n",
       "      <td>meeting</td>\n",
       "      <td>50</td>\n",
       "    </tr>\n",
       "    <tr>\n",
       "      <th>0</th>\n",
       "      <td>client</td>\n",
       "      <td>56</td>\n",
       "    </tr>\n",
       "    <tr>\n",
       "      <th>3</th>\n",
       "      <td>presentation</td>\n",
       "      <td>64</td>\n",
       "    </tr>\n",
       "    <tr>\n",
       "      <th>6</th>\n",
       "      <td>research</td>\n",
       "      <td>69</td>\n",
       "    </tr>\n",
       "    <tr>\n",
       "      <th>1</th>\n",
       "      <td>coding</td>\n",
       "      <td>70</td>\n",
       "    </tr>\n",
       "    <tr>\n",
       "      <th>5</th>\n",
       "      <td>teaching</td>\n",
       "      <td>75</td>\n",
       "    </tr>\n",
       "    <tr>\n",
       "      <th>11</th>\n",
       "      <td>management</td>\n",
       "      <td>75</td>\n",
       "    </tr>\n",
       "  </tbody>\n",
       "</table>\n",
       "</div>"
      ],
      "text/plain": [
       "                tag  tag_total_n\n",
       "12       web_design            5\n",
       "14    accessibility            5\n",
       "2          blogging            9\n",
       "9       style_guide            9\n",
       "8         dashboard           17\n",
       "7       documenting           36\n",
       "4          feedback           41\n",
       "13  data_collection           43\n",
       "10          meeting           50\n",
       "0            client           56\n",
       "3      presentation           64\n",
       "6          research           69\n",
       "1            coding           70\n",
       "5          teaching           75\n",
       "11       management           75"
      ]
     },
     "execution_count": 42,
     "metadata": {},
     "output_type": "execute_result"
    }
   ],
   "source": [
    "all_count = []\n",
    "for el in topics:\n",
    "    count_t = df[df.tag.apply(lambda x: el in x)].shape[0]\n",
    "    all_count.append((el, count_t))\n",
    "df_tag_all_count = pd.DataFrame(all_count)\n",
    "df_tag_all_count.columns = ['tag', 'tag_total_n']\n",
    "df_tag_all_count.sort_values(by='tag_total_n')"
   ]
  },
  {
   "cell_type": "code",
   "execution_count": 43,
   "metadata": {
    "ExecuteTime": {
     "end_time": "2022-01-22T18:05:35.594748Z",
     "start_time": "2022-01-22T18:05:35.561258Z"
    }
   },
   "outputs": [
    {
     "data": {
      "text/html": [
       "<div>\n",
       "<style scoped>\n",
       "    .dataframe tbody tr th:only-of-type {\n",
       "        vertical-align: middle;\n",
       "    }\n",
       "\n",
       "    .dataframe tbody tr th {\n",
       "        vertical-align: top;\n",
       "    }\n",
       "\n",
       "    .dataframe thead th {\n",
       "        text-align: right;\n",
       "    }\n",
       "</style>\n",
       "<table border=\"1\" class=\"dataframe\">\n",
       "  <thead>\n",
       "    <tr style=\"text-align: right;\">\n",
       "      <th></th>\n",
       "      <th>tag</th>\n",
       "      <th>n_tag</th>\n",
       "      <th>len_tag</th>\n",
       "    </tr>\n",
       "  </thead>\n",
       "  <tbody>\n",
       "    <tr>\n",
       "      <th>0</th>\n",
       "      <td>[]</td>\n",
       "      <td>1695</td>\n",
       "      <td>0</td>\n",
       "    </tr>\n",
       "    <tr>\n",
       "      <th>1</th>\n",
       "      <td>[teaching]</td>\n",
       "      <td>47</td>\n",
       "      <td>1</td>\n",
       "    </tr>\n",
       "    <tr>\n",
       "      <th>2</th>\n",
       "      <td>[research]</td>\n",
       "      <td>46</td>\n",
       "      <td>1</td>\n",
       "    </tr>\n",
       "    <tr>\n",
       "      <th>3</th>\n",
       "      <td>[coding]</td>\n",
       "      <td>43</td>\n",
       "      <td>1</td>\n",
       "    </tr>\n",
       "    <tr>\n",
       "      <th>4</th>\n",
       "      <td>[management]</td>\n",
       "      <td>39</td>\n",
       "      <td>1</td>\n",
       "    </tr>\n",
       "    <tr>\n",
       "      <th>...</th>\n",
       "      <td>...</td>\n",
       "      <td>...</td>\n",
       "      <td>...</td>\n",
       "    </tr>\n",
       "    <tr>\n",
       "      <th>77</th>\n",
       "      <td>[presentation, dashboard, style_guide, meeting...</td>\n",
       "      <td>1</td>\n",
       "      <td>5</td>\n",
       "    </tr>\n",
       "    <tr>\n",
       "      <th>78</th>\n",
       "      <td>[presentation, web_design]</td>\n",
       "      <td>1</td>\n",
       "      <td>2</td>\n",
       "    </tr>\n",
       "    <tr>\n",
       "      <th>79</th>\n",
       "      <td>[teaching, meeting, management]</td>\n",
       "      <td>1</td>\n",
       "      <td>3</td>\n",
       "    </tr>\n",
       "    <tr>\n",
       "      <th>80</th>\n",
       "      <td>[feedback, teaching, meeting]</td>\n",
       "      <td>1</td>\n",
       "      <td>3</td>\n",
       "    </tr>\n",
       "    <tr>\n",
       "      <th>81</th>\n",
       "      <td>[client, feedback, documenting, dashboard, mee...</td>\n",
       "      <td>1</td>\n",
       "      <td>5</td>\n",
       "    </tr>\n",
       "  </tbody>\n",
       "</table>\n",
       "<p>82 rows × 3 columns</p>\n",
       "</div>"
      ],
      "text/plain": [
       "                                                  tag  n_tag  len_tag\n",
       "0                                                  []   1695        0\n",
       "1                                          [teaching]     47        1\n",
       "2                                          [research]     46        1\n",
       "3                                            [coding]     43        1\n",
       "4                                        [management]     39        1\n",
       "..                                                ...    ...      ...\n",
       "77  [presentation, dashboard, style_guide, meeting...      1        5\n",
       "78                         [presentation, web_design]      1        2\n",
       "79                    [teaching, meeting, management]      1        3\n",
       "80                      [feedback, teaching, meeting]      1        3\n",
       "81  [client, feedback, documenting, dashboard, mee...      1        5\n",
       "\n",
       "[82 rows x 3 columns]"
      ]
     },
     "execution_count": 43,
     "metadata": {},
     "output_type": "execute_result"
    }
   ],
   "source": [
    "df_tag = pd.DataFrame(df.tag.value_counts()).reset_index()\n",
    "df_tag.columns = ['tag', 'n_tag']\n",
    "df_tag['len_tag'] = df_tag.tag.apply(lambda x: len(x))\n",
    "df_tag"
   ]
  },
  {
   "cell_type": "code",
   "execution_count": 44,
   "metadata": {
    "ExecuteTime": {
     "end_time": "2022-01-22T18:05:39.848179Z",
     "start_time": "2022-01-22T18:05:39.818793Z"
    }
   },
   "outputs": [
    {
     "data": {
      "text/plain": [
       "2    43\n",
       "3    20\n",
       "1    15\n",
       "5     2\n",
       "0     1\n",
       "4     1\n",
       "Name: len_tag, dtype: int64"
      ]
     },
     "execution_count": 44,
     "metadata": {},
     "output_type": "execute_result"
    }
   ],
   "source": [
    "df_tag.len_tag.value_counts()"
   ]
  },
  {
   "cell_type": "code",
   "execution_count": 45,
   "metadata": {
    "ExecuteTime": {
     "end_time": "2022-01-22T18:05:43.107458Z",
     "start_time": "2022-01-22T18:05:43.068531Z"
    },
    "scrolled": false
   },
   "outputs": [
    {
     "name": "stderr",
     "output_type": "stream",
     "text": [
      "/var/folders/1j/zhd4kg153k3dj_kpv7twm9gr67y1mk/T/ipykernel_95485/2195395591.py:2: SettingWithCopyWarning: \n",
      "A value is trying to be set on a copy of a slice from a DataFrame.\n",
      "Try using .loc[row_indexer,col_indexer] = value instead\n",
      "\n",
      "See the caveats in the documentation: https://pandas.pydata.org/pandas-docs/stable/user_guide/indexing.html#returning-a-view-versus-a-copy\n",
      "  df_tag_1['tag'] = df_tag_1.tag.apply(lambda x: x[0])\n"
     ]
    },
    {
     "data": {
      "text/html": [
       "<div>\n",
       "<style scoped>\n",
       "    .dataframe tbody tr th:only-of-type {\n",
       "        vertical-align: middle;\n",
       "    }\n",
       "\n",
       "    .dataframe tbody tr th {\n",
       "        vertical-align: top;\n",
       "    }\n",
       "\n",
       "    .dataframe thead th {\n",
       "        text-align: right;\n",
       "    }\n",
       "</style>\n",
       "<table border=\"1\" class=\"dataframe\">\n",
       "  <thead>\n",
       "    <tr style=\"text-align: right;\">\n",
       "      <th></th>\n",
       "      <th>tag</th>\n",
       "      <th>n_tag</th>\n",
       "      <th>len_tag</th>\n",
       "      <th>tag_total_n</th>\n",
       "    </tr>\n",
       "  </thead>\n",
       "  <tbody>\n",
       "    <tr>\n",
       "      <th>0</th>\n",
       "      <td>teaching</td>\n",
       "      <td>47</td>\n",
       "      <td>1</td>\n",
       "      <td>75</td>\n",
       "    </tr>\n",
       "    <tr>\n",
       "      <th>1</th>\n",
       "      <td>research</td>\n",
       "      <td>46</td>\n",
       "      <td>1</td>\n",
       "      <td>69</td>\n",
       "    </tr>\n",
       "    <tr>\n",
       "      <th>2</th>\n",
       "      <td>coding</td>\n",
       "      <td>43</td>\n",
       "      <td>1</td>\n",
       "      <td>70</td>\n",
       "    </tr>\n",
       "    <tr>\n",
       "      <th>3</th>\n",
       "      <td>management</td>\n",
       "      <td>39</td>\n",
       "      <td>1</td>\n",
       "      <td>75</td>\n",
       "    </tr>\n",
       "    <tr>\n",
       "      <th>4</th>\n",
       "      <td>presentation</td>\n",
       "      <td>38</td>\n",
       "      <td>1</td>\n",
       "      <td>64</td>\n",
       "    </tr>\n",
       "    <tr>\n",
       "      <th>5</th>\n",
       "      <td>meeting</td>\n",
       "      <td>27</td>\n",
       "      <td>1</td>\n",
       "      <td>50</td>\n",
       "    </tr>\n",
       "    <tr>\n",
       "      <th>6</th>\n",
       "      <td>data_collection</td>\n",
       "      <td>25</td>\n",
       "      <td>1</td>\n",
       "      <td>43</td>\n",
       "    </tr>\n",
       "    <tr>\n",
       "      <th>7</th>\n",
       "      <td>client</td>\n",
       "      <td>21</td>\n",
       "      <td>1</td>\n",
       "      <td>56</td>\n",
       "    </tr>\n",
       "    <tr>\n",
       "      <th>8</th>\n",
       "      <td>documenting</td>\n",
       "      <td>16</td>\n",
       "      <td>1</td>\n",
       "      <td>36</td>\n",
       "    </tr>\n",
       "    <tr>\n",
       "      <th>9</th>\n",
       "      <td>feedback</td>\n",
       "      <td>16</td>\n",
       "      <td>1</td>\n",
       "      <td>41</td>\n",
       "    </tr>\n",
       "    <tr>\n",
       "      <th>10</th>\n",
       "      <td>dashboard</td>\n",
       "      <td>9</td>\n",
       "      <td>1</td>\n",
       "      <td>17</td>\n",
       "    </tr>\n",
       "    <tr>\n",
       "      <th>11</th>\n",
       "      <td>blogging</td>\n",
       "      <td>6</td>\n",
       "      <td>1</td>\n",
       "      <td>9</td>\n",
       "    </tr>\n",
       "    <tr>\n",
       "      <th>12</th>\n",
       "      <td>style_guide</td>\n",
       "      <td>5</td>\n",
       "      <td>1</td>\n",
       "      <td>9</td>\n",
       "    </tr>\n",
       "    <tr>\n",
       "      <th>13</th>\n",
       "      <td>accessibility</td>\n",
       "      <td>5</td>\n",
       "      <td>1</td>\n",
       "      <td>5</td>\n",
       "    </tr>\n",
       "    <tr>\n",
       "      <th>14</th>\n",
       "      <td>web_design</td>\n",
       "      <td>4</td>\n",
       "      <td>1</td>\n",
       "      <td>5</td>\n",
       "    </tr>\n",
       "  </tbody>\n",
       "</table>\n",
       "</div>"
      ],
      "text/plain": [
       "                tag  n_tag  len_tag  tag_total_n\n",
       "0          teaching     47        1           75\n",
       "1          research     46        1           69\n",
       "2            coding     43        1           70\n",
       "3        management     39        1           75\n",
       "4      presentation     38        1           64\n",
       "5           meeting     27        1           50\n",
       "6   data_collection     25        1           43\n",
       "7            client     21        1           56\n",
       "8       documenting     16        1           36\n",
       "9          feedback     16        1           41\n",
       "10        dashboard      9        1           17\n",
       "11         blogging      6        1            9\n",
       "12      style_guide      5        1            9\n",
       "13    accessibility      5        1            5\n",
       "14       web_design      4        1            5"
      ]
     },
     "execution_count": 45,
     "metadata": {},
     "output_type": "execute_result"
    }
   ],
   "source": [
    "df_tag_1 = df_tag[df_tag.len_tag==1]\n",
    "df_tag_1['tag'] = df_tag_1.tag.apply(lambda x: x[0])\n",
    "df_tag_1.set_index('tag').join(df_tag_all_count.set_index('tag'), on='tag').reset_index()"
   ]
  },
  {
   "cell_type": "code",
   "execution_count": 46,
   "metadata": {
    "ExecuteTime": {
     "end_time": "2022-01-22T18:05:48.581496Z",
     "start_time": "2022-01-22T18:05:48.563274Z"
    }
   },
   "outputs": [],
   "source": [
    "df_tag_1.to_csv('../data/output/tag1.csv')"
   ]
  },
  {
   "cell_type": "code",
   "execution_count": 47,
   "metadata": {
    "ExecuteTime": {
     "end_time": "2022-01-22T18:05:53.159579Z",
     "start_time": "2022-01-22T18:05:53.116476Z"
    }
   },
   "outputs": [
    {
     "data": {
      "text/html": [
       "<div>\n",
       "<style scoped>\n",
       "    .dataframe tbody tr th:only-of-type {\n",
       "        vertical-align: middle;\n",
       "    }\n",
       "\n",
       "    .dataframe tbody tr th {\n",
       "        vertical-align: top;\n",
       "    }\n",
       "\n",
       "    .dataframe thead th {\n",
       "        text-align: right;\n",
       "    }\n",
       "</style>\n",
       "<table border=\"1\" class=\"dataframe\">\n",
       "  <thead>\n",
       "    <tr style=\"text-align: right;\">\n",
       "      <th></th>\n",
       "      <th>tag</th>\n",
       "      <th>n_tag</th>\n",
       "      <th>len_tag</th>\n",
       "    </tr>\n",
       "  </thead>\n",
       "  <tbody>\n",
       "    <tr>\n",
       "      <th>0</th>\n",
       "      <td>[client, management]</td>\n",
       "      <td>7</td>\n",
       "      <td>2</td>\n",
       "    </tr>\n",
       "    <tr>\n",
       "      <th>1</th>\n",
       "      <td>[teaching, management]</td>\n",
       "      <td>6</td>\n",
       "      <td>2</td>\n",
       "    </tr>\n",
       "    <tr>\n",
       "      <th>2</th>\n",
       "      <td>[coding, research]</td>\n",
       "      <td>5</td>\n",
       "      <td>2</td>\n",
       "    </tr>\n",
       "    <tr>\n",
       "      <th>3</th>\n",
       "      <td>[coding, documenting]</td>\n",
       "      <td>5</td>\n",
       "      <td>2</td>\n",
       "    </tr>\n",
       "    <tr>\n",
       "      <th>4</th>\n",
       "      <td>[coding, teaching]</td>\n",
       "      <td>4</td>\n",
       "      <td>2</td>\n",
       "    </tr>\n",
       "  </tbody>\n",
       "</table>\n",
       "</div>"
      ],
      "text/plain": [
       "                      tag  n_tag  len_tag\n",
       "0    [client, management]      7        2\n",
       "1  [teaching, management]      6        2\n",
       "2      [coding, research]      5        2\n",
       "3   [coding, documenting]      5        2\n",
       "4      [coding, teaching]      4        2"
      ]
     },
     "execution_count": 47,
     "metadata": {},
     "output_type": "execute_result"
    }
   ],
   "source": [
    "df_tag_2 = df_tag[df_tag.len_tag==2].reset_index(drop=True)\n",
    "df_tag_2.head()"
   ]
  },
  {
   "cell_type": "code",
   "execution_count": 48,
   "metadata": {
    "ExecuteTime": {
     "end_time": "2022-01-22T18:06:07.404011Z",
     "start_time": "2022-01-22T18:06:07.385957Z"
    }
   },
   "outputs": [],
   "source": [
    "(\n",
    "    df_tag_2\n",
    "    .join(pd.DataFrame(df_tag_2['tag'].to_list(), columns=['tag1','tag2']))\n",
    "    .drop('tag', axis=1)\n",
    "    .to_csv('../data/output/tag12.csv')\n",
    ")"
   ]
  }
 ],
 "metadata": {
  "kernelspec": {
   "display_name": "text-analysis-38",
   "language": "python",
   "name": "text-analysis-38"
  },
  "language_info": {
   "codemirror_mode": {
    "name": "ipython",
    "version": 3
   },
   "file_extension": ".py",
   "mimetype": "text/x-python",
   "name": "python",
   "nbconvert_exporter": "python",
   "pygments_lexer": "ipython3",
   "version": "3.8.11"
  },
  "varInspector": {
   "cols": {
    "lenName": 16,
    "lenType": 16,
    "lenVar": 40
   },
   "kernels_config": {
    "python": {
     "delete_cmd_postfix": "",
     "delete_cmd_prefix": "del ",
     "library": "var_list.py",
     "varRefreshCmd": "print(var_dic_list())"
    },
    "r": {
     "delete_cmd_postfix": ") ",
     "delete_cmd_prefix": "rm(",
     "library": "var_list.r",
     "varRefreshCmd": "cat(var_dic_list()) "
    }
   },
   "types_to_exclude": [
    "module",
    "function",
    "builtin_function_or_method",
    "instance",
    "_Feature"
   ],
   "window_display": false
  }
 },
 "nbformat": 4,
 "nbformat_minor": 4
}
